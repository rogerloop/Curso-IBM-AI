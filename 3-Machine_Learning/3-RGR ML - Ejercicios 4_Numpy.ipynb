{
 "cells": [
  {
   "cell_type": "code",
   "execution_count": 1,
   "id": "3a45510f-ddc3-42ed-be83-a4aa94678aff",
   "metadata": {},
   "outputs": [],
   "source": [
    "# Ejercicio 1 - Crear lista - reshape - indexar"
   ]
  },
  {
   "cell_type": "code",
   "execution_count": 2,
   "id": "ad616137-ff35-47f5-bfaf-2876379625d7",
   "metadata": {},
   "outputs": [],
   "source": [
    "import numpy as np"
   ]
  },
  {
   "cell_type": "code",
   "execution_count": 3,
   "id": "32bf28ea-be1f-4612-86d1-5590fc9c137b",
   "metadata": {},
   "outputs": [],
   "source": [
    "lista = np.arange(10,40)"
   ]
  },
  {
   "cell_type": "code",
   "execution_count": 4,
   "id": "3a82976c-a8bc-4172-a08c-176c782b36ab",
   "metadata": {},
   "outputs": [
    {
     "data": {
      "text/plain": [
       "array([[10, 11, 12, 13, 14, 15, 16, 17, 18, 19],\n",
       "       [20, 21, 22, 23, 24, 25, 26, 27, 28, 29],\n",
       "       [30, 31, 32, 33, 34, 35, 36, 37, 38, 39]])"
      ]
     },
     "execution_count": 4,
     "metadata": {},
     "output_type": "execute_result"
    }
   ],
   "source": [
    "lista = lista.reshape (3,10)\n",
    "lista"
   ]
  },
  {
   "cell_type": "code",
   "execution_count": 5,
   "id": "b72b855b-9ecd-410e-8a41-c51c392442f3",
   "metadata": {},
   "outputs": [
    {
     "data": {
      "text/plain": [
       "19"
      ]
     },
     "execution_count": 5,
     "metadata": {},
     "output_type": "execute_result"
    }
   ],
   "source": [
    "lista [0,9]"
   ]
  },
  {
   "cell_type": "code",
   "execution_count": null,
   "id": "386c4363-a713-47ed-a4ec-a8ccaecd6f06",
   "metadata": {},
   "outputs": [],
   "source": []
  },
  {
   "cell_type": "code",
   "execution_count": 6,
   "id": "7a871536-4700-4f5d-978f-80e518d9a8a2",
   "metadata": {},
   "outputs": [],
   "source": [
    "# Ejercicio 2 - Crear array enteros aleatorios - reshape - indexar"
   ]
  },
  {
   "cell_type": "code",
   "execution_count": 7,
   "id": "d9005754-151f-4adf-9153-5945b8082d8b",
   "metadata": {},
   "outputs": [
    {
     "data": {
      "text/plain": [
       "array([35, 49, 10, 66, 67,  5, 35,  2, 68])"
      ]
     },
     "execution_count": 7,
     "metadata": {},
     "output_type": "execute_result"
    }
   ],
   "source": [
    "import numpy as np\n",
    "array = np.random.randint(0,100,9)\n",
    "array"
   ]
  },
  {
   "cell_type": "code",
   "execution_count": 8,
   "id": "cb8611cd-41ec-4c69-91db-0117632be580",
   "metadata": {},
   "outputs": [
    {
     "data": {
      "text/plain": [
       "array([[35, 49, 10],\n",
       "       [66, 67,  5],\n",
       "       [35,  2, 68]])"
      ]
     },
     "execution_count": 8,
     "metadata": {},
     "output_type": "execute_result"
    }
   ],
   "source": [
    "matriz = array.reshape (3,3)\n",
    "matriz"
   ]
  },
  {
   "cell_type": "code",
   "execution_count": 9,
   "id": "62d46b57-55f8-4667-9bd0-9acfb65280fb",
   "metadata": {},
   "outputs": [
    {
     "data": {
      "text/plain": [
       "68"
      ]
     },
     "execution_count": 9,
     "metadata": {},
     "output_type": "execute_result"
    }
   ],
   "source": [
    "matriz [2,2]"
   ]
  },
  {
   "cell_type": "code",
   "execution_count": null,
   "id": "7193311c-bfc4-441d-a2d5-6945532d6f60",
   "metadata": {},
   "outputs": [],
   "source": []
  },
  {
   "cell_type": "code",
   "execution_count": 22,
   "id": "d2cadbfa-f195-453a-a03b-bb2e256f1fb7",
   "metadata": {},
   "outputs": [
    {
     "name": "stdout",
     "output_type": "stream",
     "text": [
      "[6 7 1 5 3]\n"
     ]
    }
   ],
   "source": [
    "## Ejercicio 3 - diseñar funcion para generar N números aleatorios entre dos variables mínimo y máximo\n",
    "\n",
    "import numpy as np\n",
    "\n",
    "def generar_numeros_enteros_aleatorios(N, minimo, maximo):\n",
    "    return np.random.randint (minimo, maximo, N)\n",
    "\n",
    "\n",
    "# Ejemplo uso\n",
    "N = 5\n",
    "minimo = 1\n",
    "maximo = 10\n",
    "resultado = generar_numeros_enteros_aleatorios(N, minimo, maximo)\n",
    "print (resultado)"
   ]
  },
  {
   "cell_type": "code",
   "execution_count": null,
   "id": "29be522d-ae10-410f-9f4d-bfba6a961202",
   "metadata": {},
   "outputs": [],
   "source": []
  },
  {
   "cell_type": "code",
   "execution_count": 26,
   "id": "29c98753-715d-4199-bfeb-1b67cfbeb197",
   "metadata": {},
   "outputs": [
    {
     "name": "stdout",
     "output_type": "stream",
     "text": [
      "[0 2 4 6 8]\n"
     ]
    }
   ],
   "source": [
    "import numpy as np\n",
    "\n",
    "def generar_secuencia_numerica(minimo, maximo, paso):\n",
    "    return np.arange(minimo, maximo, paso)\n",
    "\n",
    "# Ejemplo uso\n",
    "\n",
    "minimo = 0\n",
    "maximo = 10\n",
    "paso = 2\n",
    "\n",
    "resultado = generar_secuencia_numerica(minimo, maximo, paso)\n",
    "print (resultado)\n",
    "\n"
   ]
  },
  {
   "cell_type": "code",
   "execution_count": null,
   "id": "47e0dc26-ee66-4f27-ad8e-bc7f6c4d398a",
   "metadata": {},
   "outputs": [],
   "source": []
  },
  {
   "cell_type": "code",
   "execution_count": null,
   "id": "c9b70df8-918c-436a-bc6e-2e6e15a824ac",
   "metadata": {},
   "outputs": [],
   "source": []
  }
 ],
 "metadata": {
  "kernelspec": {
   "display_name": "Python 3 (ipykernel)",
   "language": "python",
   "name": "python3"
  },
  "language_info": {
   "codemirror_mode": {
    "name": "ipython",
    "version": 3
   },
   "file_extension": ".py",
   "mimetype": "text/x-python",
   "name": "python",
   "nbconvert_exporter": "python",
   "pygments_lexer": "ipython3",
   "version": "3.12.4"
  }
 },
 "nbformat": 4,
 "nbformat_minor": 5
}
