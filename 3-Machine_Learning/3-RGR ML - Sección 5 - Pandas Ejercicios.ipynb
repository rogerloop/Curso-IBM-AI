{
 "cells": [
  {
   "cell_type": "code",
   "execution_count": null,
   "id": "925691ea-8ef6-4d3d-a945-83f289e6338c",
   "metadata": {},
   "outputs": [],
   "source": [
    "# Ejercicio 1 "
   ]
  },
  {
   "cell_type": "code",
   "execution_count": 1,
   "id": "3820de16-07d0-43d9-b6c2-7063d58ace11",
   "metadata": {},
   "outputs": [],
   "source": [
    "import numpy as np\n",
    "import pandas as pd"
   ]
  },
  {
   "cell_type": "code",
   "execution_count": 23,
   "id": "16259a9b-a0c0-4009-896e-c3404f19fe54",
   "metadata": {},
   "outputs": [
    {
     "name": "stdout",
     "output_type": "stream",
     "text": [
      "La nota de física es un 9\n"
     ]
    }
   ],
   "source": [
    "asignaturas = ['matematicas', 'fisica', 'histaria']\n",
    "notas = [9,9,8]\n",
    "serie = pd.Series (data = notas, index = asignaturas)\n",
    "nota_fisica = serie['fisica']\n",
    "print (\"La nota de física es un {}\".format(nota_fisica))"
   ]
  },
  {
   "cell_type": "code",
   "execution_count": null,
   "id": "be49658c-1cd4-4413-bc89-9ab6a56c9647",
   "metadata": {},
   "outputs": [],
   "source": []
  },
  {
   "cell_type": "code",
   "execution_count": null,
   "id": "4365b069-1bb2-4a42-8d5b-49db3504641e",
   "metadata": {},
   "outputs": [],
   "source": [
    "# Ejercicio 2"
   ]
  },
  {
   "cell_type": "code",
   "execution_count": 27,
   "id": "2c46e81c-bf8a-4fa7-9bc9-66c1eecfed53",
   "metadata": {},
   "outputs": [],
   "source": [
    "import pandas as pd\n",
    "import numpy as np"
   ]
  },
  {
   "cell_type": "code",
   "execution_count": 69,
   "id": "55a3e61b-79e5-45db-9776-8fd9d53213bf",
   "metadata": {},
   "outputs": [
    {
     "name": "stdout",
     "output_type": "stream",
     "text": [
      "                 oficina_1  oficina_2  oficina_3\n",
      "ventas_enero           415        101        418\n",
      " ventas_febrero        217        317        488\n",
      "ventas_marzo           103        494        340\n",
      "Las ventas de enero en la oficina 1 son de  415\n"
     ]
    }
   ],
   "source": [
    "ventas_enero = np.random.randint (100,501,3)\n",
    "ventas_febrero = np.random.randint (100,501,3)\n",
    "ventas_marzo = np.random.randint (100,501,3)\n",
    "filas = ['ventas_enero', ' ventas_febrero', 'ventas_marzo']\n",
    "columnas = ['oficina_1', 'oficina_2', 'oficina_3']\n",
    "ventas = [ventas_enero, ventas_febrero, ventas_marzo]\n",
    "\n",
    "dataframe = pd.DataFrame(ventas,filas,columnas)\n",
    "print (dataframe)\n",
    "\n",
    "ventas_enero_oficina_1 = dataframe  ['oficina_1']['ventas_enero']\n",
    "\n",
    "print (\"Las ventas de enero en la oficina 1 son de  {}\".format(ventas_enero_oficina_1))\n"
   ]
  },
  {
   "cell_type": "code",
   "execution_count": null,
   "id": "0470f2c3-9319-428a-a5ea-4b3c9dd777ed",
   "metadata": {},
   "outputs": [],
   "source": []
  },
  {
   "cell_type": "code",
   "execution_count": null,
   "id": "13181d03-3d1c-49fb-a9ce-b096f63b07dc",
   "metadata": {},
   "outputs": [],
   "source": [
    "# Ejercicio 3"
   ]
  },
  {
   "cell_type": "code",
   "execution_count": 99,
   "id": "7529fbf4-6104-48c3-a4e5-7bae8a3fda09",
   "metadata": {},
   "outputs": [
    {
     "data": {
      "text/plain": [
       "oficina_1    245.000000\n",
       "oficina_2    304.000000\n",
       "oficina_3    415.333333\n",
       "dtype: float64"
      ]
     },
     "execution_count": 99,
     "metadata": {},
     "output_type": "execute_result"
    }
   ],
   "source": [
    "import pandas as pd\n",
    "\n",
    "data = {'A': [1,2,3,4],\n",
    "       'B': [5,6,7,8],\n",
    "       'C': [9,10,11,12]}\n",
    "\n",
    "df = pd.DataFrame (data)\n",
    "df\n",
    "\n",
    "promedios=dataframe.mean()\n",
    "promedios"
   ]
  },
  {
   "cell_type": "code",
   "execution_count": null,
   "id": "625ad371-5d88-4e96-967a-48a70bd86172",
   "metadata": {},
   "outputs": [],
   "source": []
  },
  {
   "cell_type": "code",
   "execution_count": 93,
   "id": "96242ca9-8919-45cb-9668-9200e06b4b81",
   "metadata": {},
   "outputs": [
    {
     "name": "stdout",
     "output_type": "stream",
     "text": [
      "   Promedio\n",
      "A       2.5\n",
      "B       6.5\n",
      "C      10.5\n"
     ]
    }
   ],
   "source": [
    "import pandas as pd\n",
    "\n",
    "def calcular_promedio(dataframe):\n",
    "    # Calcula el promedio de cada columna\n",
    "    promedios = dataframe.mean()\n",
    "    \n",
    "    # Convierte los promedios a un DataFrame\n",
    "    promedios_df = pd.DataFrame(promedios, columns=['Promedio'])\n",
    "    \n",
    "    return promedios_df\n",
    "\n",
    "# Ejemplo de uso\n",
    "data = {\n",
    "    'A': [1, 2, 3, 4],\n",
    "    'B': [5, 6, 7, 8],\n",
    "    'C': [9, 10, 11, 12]\n",
    "}\n",
    "\n",
    "df = pd.DataFrame(data)\n",
    "resultado = calcular_promedio(df)\n",
    "print(resultado)\n"
   ]
  },
  {
   "cell_type": "code",
   "execution_count": null,
   "id": "f8088975-8bf9-45f8-96bc-40505fdb3c3b",
   "metadata": {},
   "outputs": [],
   "source": []
  },
  {
   "cell_type": "code",
   "execution_count": null,
   "id": "5d7b251d-977e-4eef-916e-363811931da2",
   "metadata": {},
   "outputs": [],
   "source": []
  }
 ],
 "metadata": {
  "kernelspec": {
   "display_name": "Python 3 (ipykernel)",
   "language": "python",
   "name": "python3"
  },
  "language_info": {
   "codemirror_mode": {
    "name": "ipython",
    "version": 3
   },
   "file_extension": ".py",
   "mimetype": "text/x-python",
   "name": "python",
   "nbconvert_exporter": "python",
   "pygments_lexer": "ipython3",
   "version": "3.12.4"
  }
 },
 "nbformat": 4,
 "nbformat_minor": 5
}
