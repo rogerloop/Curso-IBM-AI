{
 "cells": [
  {
   "cell_type": "code",
   "execution_count": 1,
   "id": "23793143-4bce-4e74-aeef-1f4e0a932e3c",
   "metadata": {},
   "outputs": [],
   "source": [
    "import numpy as np"
   ]
  },
  {
   "cell_type": "code",
   "execution_count": 3,
   "id": "eb6906c8-776f-40de-b52e-1c1f66885c23",
   "metadata": {},
   "outputs": [],
   "source": [
    "array = np.random.randint(1,50,9)"
   ]
  },
  {
   "cell_type": "code",
   "execution_count": 5,
   "id": "755fe92b-8447-496f-8dc5-d73ffc52e6ff",
   "metadata": {},
   "outputs": [
    {
     "data": {
      "text/plain": [
       "array([ 9,  3, 13, 14,  5, 39,  5, 14, 13])"
      ]
     },
     "execution_count": 5,
     "metadata": {},
     "output_type": "execute_result"
    }
   ],
   "source": [
    "array"
   ]
  },
  {
   "cell_type": "code",
   "execution_count": 7,
   "id": "8414f35a-f899-423c-8afa-d02af68e8c4a",
   "metadata": {},
   "outputs": [],
   "source": [
    "array = array.reshape(3,3)"
   ]
  },
  {
   "cell_type": "code",
   "execution_count": 9,
   "id": "2cae9404-f08d-40a4-b1a7-62a20ec97829",
   "metadata": {},
   "outputs": [
    {
     "data": {
      "text/plain": [
       "array([[ 9,  3, 13],\n",
       "       [14,  5, 39],\n",
       "       [ 5, 14, 13]])"
      ]
     },
     "execution_count": 9,
     "metadata": {},
     "output_type": "execute_result"
    }
   ],
   "source": [
    "array"
   ]
  },
  {
   "cell_type": "code",
   "execution_count": 71,
   "id": "b5070cd9-f16f-4a48-8990-820e3ffd7744",
   "metadata": {},
   "outputs": [
    {
     "data": {
      "text/plain": [
       "array([[39],\n",
       "       [13]])"
      ]
     },
     "execution_count": 71,
     "metadata": {},
     "output_type": "execute_result"
    }
   ],
   "source": [
    "array [1:,2:]"
   ]
  },
  {
   "cell_type": "code",
   "execution_count": null,
   "id": "bc025b24-5b30-4207-a358-31b71c5deb4b",
   "metadata": {},
   "outputs": [],
   "source": [
    "\n"
   ]
  },
  {
   "cell_type": "code",
   "execution_count": 104,
   "id": "445ea1e2-4197-463b-a434-4bdaf8deba47",
   "metadata": {},
   "outputs": [],
   "source": [
    "array = np.arange(0,10)"
   ]
  },
  {
   "cell_type": "code",
   "execution_count": 106,
   "id": "42b334ce-8d4a-4af2-b7bf-287e05d58ce5",
   "metadata": {},
   "outputs": [
    {
     "data": {
      "text/plain": [
       "array([0, 1, 2, 3, 4, 5, 6, 7, 8, 9])"
      ]
     },
     "execution_count": 106,
     "metadata": {},
     "output_type": "execute_result"
    }
   ],
   "source": [
    "array"
   ]
  },
  {
   "cell_type": "code",
   "execution_count": 108,
   "id": "6153e931-c5dc-4c4d-aa7a-b5e750cfcd5f",
   "metadata": {},
   "outputs": [],
   "source": [
    "array2 = np.arange (10,20)"
   ]
  },
  {
   "cell_type": "code",
   "execution_count": 110,
   "id": "45e49f8c-cbf1-444e-a67f-a5d29343edf2",
   "metadata": {},
   "outputs": [
    {
     "data": {
      "text/plain": [
       "array([10, 11, 12, 13, 14, 15, 16, 17, 18, 19])"
      ]
     },
     "execution_count": 110,
     "metadata": {},
     "output_type": "execute_result"
    }
   ],
   "source": [
    "array2"
   ]
  },
  {
   "cell_type": "code",
   "execution_count": 112,
   "id": "ebefb08c-c211-4eb9-9881-fc1cde6ee023",
   "metadata": {},
   "outputs": [
    {
     "data": {
      "text/plain": [
       "array([  0,  11,  24,  39,  56,  75,  96, 119, 144, 171])"
      ]
     },
     "execution_count": 112,
     "metadata": {},
     "output_type": "execute_result"
    }
   ],
   "source": [
    "array2 * array"
   ]
  },
  {
   "cell_type": "code",
   "execution_count": 114,
   "id": "c62aabb9-f725-4c81-a2b9-8321bcba881f",
   "metadata": {},
   "outputs": [
    {
     "data": {
      "text/plain": [
       "array([3.16227766, 3.31662479, 3.46410162, 3.60555128, 3.74165739,\n",
       "       3.87298335, 4.        , 4.12310563, 4.24264069, 4.35889894])"
      ]
     },
     "execution_count": 114,
     "metadata": {},
     "output_type": "execute_result"
    }
   ],
   "source": [
    "np.sqrt(array2)"
   ]
  }
 ],
 "metadata": {
  "kernelspec": {
   "display_name": "Python 3 (ipykernel)",
   "language": "python",
   "name": "python3"
  },
  "language_info": {
   "codemirror_mode": {
    "name": "ipython",
    "version": 3
   },
   "file_extension": ".py",
   "mimetype": "text/x-python",
   "name": "python",
   "nbconvert_exporter": "python",
   "pygments_lexer": "ipython3",
   "version": "3.11.9"
  },
  "widgets": {
   "application/vnd.jupyter.widget-state+json": {
    "state": {},
    "version_major": 2,
    "version_minor": 0
   }
  }
 },
 "nbformat": 4,
 "nbformat_minor": 5
}
