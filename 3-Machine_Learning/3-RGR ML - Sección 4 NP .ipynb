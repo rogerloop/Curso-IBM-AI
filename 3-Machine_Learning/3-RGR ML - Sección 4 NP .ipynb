{
 "cells": [
  {
   "cell_type": "code",
   "execution_count": 1,
   "id": "23793143-4bce-4e74-aeef-1f4e0a932e3c",
   "metadata": {},
   "outputs": [],
   "source": [
    "import numpy as np"
   ]
  },
  {
   "cell_type": "code",
   "execution_count": 3,
   "id": "eb6906c8-776f-40de-b52e-1c1f66885c23",
   "metadata": {},
   "outputs": [],
   "source": [
    "array = np.random.randint(1,50,9)"
   ]
  },
  {
   "cell_type": "code",
   "execution_count": 5,
   "id": "755fe92b-8447-496f-8dc5-d73ffc52e6ff",
   "metadata": {},
   "outputs": [
    {
     "data": {
      "text/plain": [
       "array([ 9,  3, 13, 14,  5, 39,  5, 14, 13])"
      ]
     },
     "execution_count": 5,
     "metadata": {},
     "output_type": "execute_result"
    }
   ],
   "source": [
    "array"
   ]
  },
  {
   "cell_type": "code",
   "execution_count": 7,
   "id": "8414f35a-f899-423c-8afa-d02af68e8c4a",
   "metadata": {},
   "outputs": [],
   "source": [
    "array = array.reshape(3,3)"
   ]
  },
  {
   "cell_type": "code",
   "execution_count": 9,
   "id": "2cae9404-f08d-40a4-b1a7-62a20ec97829",
   "metadata": {},
   "outputs": [
    {
     "data": {
      "text/plain": [
       "array([[ 9,  3, 13],\n",
       "       [14,  5, 39],\n",
       "       [ 5, 14, 13]])"
      ]
     },
     "execution_count": 9,
     "metadata": {},
     "output_type": "execute_result"
    }
   ],
   "source": [
    "array"
   ]
  },
  {
   "cell_type": "code",
   "execution_count": 71,
   "id": "b5070cd9-f16f-4a48-8990-820e3ffd7744",
   "metadata": {},
   "outputs": [
    {
     "data": {
      "text/plain": [
       "array([[39],\n",
       "       [13]])"
      ]
     },
     "execution_count": 71,
     "metadata": {},
     "output_type": "execute_result"
    }
   ],
   "source": [
    "array [1:,2:]"
   ]
  },
  {
   "cell_type": "code",
   "execution_count": null,
   "id": "bc025b24-5b30-4207-a358-31b71c5deb4b",
   "metadata": {},
   "outputs": [],
   "source": [
    "\n"
   ]
  },
  {
   "cell_type": "code",
   "execution_count": 104,
   "id": "445ea1e2-4197-463b-a434-4bdaf8deba47",
   "metadata": {},
   "outputs": [],
   "source": [
    "array = np.arange(0,10)"
   ]
  },
  {
   "cell_type": "code",
   "execution_count": 106,
   "id": "42b334ce-8d4a-4af2-b7bf-287e05d58ce5",
   "metadata": {},
   "outputs": [
    {
     "data": {
      "text/plain": [
       "array([0, 1, 2, 3, 4, 5, 6, 7, 8, 9])"
      ]
     },
     "execution_count": 106,
     "metadata": {},
     "output_type": "execute_result"
    }
   ],
   "source": [
    "array"
   ]
  },
  {
   "cell_type": "code",
   "execution_count": 108,
   "id": "6153e931-c5dc-4c4d-aa7a-b5e750cfcd5f",
   "metadata": {},
   "outputs": [],
   "source": [
    "array2 = np.arange (10,20)"
   ]
  },
  {
   "cell_type": "code",
   "execution_count": 110,
   "id": "45e49f8c-cbf1-444e-a67f-a5d29343edf2",
   "metadata": {},
   "outputs": [
    {
     "data": {
      "text/plain": [
       "array([10, 11, 12, 13, 14, 15, 16, 17, 18, 19])"
      ]
     },
     "execution_count": 110,
     "metadata": {},
     "output_type": "execute_result"
    }
   ],
   "source": [
    "array2"
   ]
  },
  {
   "cell_type": "code",
   "execution_count": 112,
   "id": "ebefb08c-c211-4eb9-9881-fc1cde6ee023",
   "metadata": {},
   "outputs": [
    {
     "data": {
      "text/plain": [
       "array([  0,  11,  24,  39,  56,  75,  96, 119, 144, 171])"
      ]
     },
     "execution_count": 112,
     "metadata": {},
     "output_type": "execute_result"
    }
   ],
   "source": [
    "array2 * array"
   ]
  },
  {
   "cell_type": "code",
   "execution_count": 114,
   "id": "c62aabb9-f725-4c81-a2b9-8321bcba881f",
   "metadata": {},
   "outputs": [
    {
     "data": {
      "text/plain": [
       "array([3.16227766, 3.31662479, 3.46410162, 3.60555128, 3.74165739,\n",
       "       3.87298335, 4.        , 4.12310563, 4.24264069, 4.35889894])"
      ]
     },
     "execution_count": 114,
     "metadata": {},
     "output_type": "execute_result"
    }
   ],
   "source": [
    "np.sqrt(array2)"
   ]
  },
  {
   "cell_type": "code",
   "execution_count": null,
   "id": "b031567b-94e4-4589-b6ca-977348632123",
   "metadata": {},
   "outputs": [],
   "source": []
  },
  {
   "cell_type": "code",
   "execution_count": null,
   "id": "3d34872b-2daf-4e15-b4d3-7d4af1060aba",
   "metadata": {},
   "outputs": [],
   "source": []
  },
  {
   "cell_type": "code",
   "execution_count": null,
   "id": "535791e6-8167-403d-8f50-217f596cacd5",
   "metadata": {},
   "outputs": [],
   "source": []
  },
  {
   "cell_type": "code",
   "execution_count": null,
   "id": "ed581ee2-2f84-4c70-835c-c0e189fddf3a",
   "metadata": {},
   "outputs": [],
   "source": []
  },
  {
   "cell_type": "code",
   "execution_count": null,
   "id": "a33c9acf-051b-48a1-b604-43d9a6002678",
   "metadata": {},
   "outputs": [],
   "source": []
  },
  {
   "cell_type": "code",
   "execution_count": null,
   "id": "a24f87a1-4ae7-4078-b372-3b0d3334fee0",
   "metadata": {},
   "outputs": [],
   "source": []
  },
  {
   "cell_type": "code",
   "execution_count": null,
   "id": "182e11cf-40ee-4072-a792-c731e9764c2e",
   "metadata": {},
   "outputs": [],
   "source": []
  },
  {
   "cell_type": "code",
   "execution_count": null,
   "id": "c66bb0e0-6a79-4daf-a424-c190ddddc610",
   "metadata": {},
   "outputs": [],
   "source": []
  },
  {
   "cell_type": "code",
   "execution_count": null,
   "id": "daadcf1e-8b04-4da7-b6c8-7112fb9bce15",
   "metadata": {},
   "outputs": [],
   "source": []
  },
  {
   "cell_type": "code",
   "execution_count": null,
   "id": "fe702c8c-f70a-4fbe-8455-bd427171f4e7",
   "metadata": {},
   "outputs": [],
   "source": []
  },
  {
   "cell_type": "code",
   "execution_count": null,
   "id": "eb20524d-19aa-46c9-8ec8-eb9f2e7c9263",
   "metadata": {},
   "outputs": [],
   "source": []
  },
  {
   "cell_type": "code",
   "execution_count": null,
   "id": "6ebd43f7-0559-4863-b159-21e93bbfffde",
   "metadata": {},
   "outputs": [],
   "source": []
  },
  {
   "cell_type": "code",
   "execution_count": null,
   "id": "9e20e34c-e165-4fdf-8c0e-5ed0cf4ac37b",
   "metadata": {},
   "outputs": [],
   "source": []
  },
  {
   "cell_type": "code",
   "execution_count": null,
   "id": "0d1d19ba-e54a-4987-9b77-85f1d07f66af",
   "metadata": {},
   "outputs": [],
   "source": []
  },
  {
   "cell_type": "code",
   "execution_count": null,
   "id": "821a27d5-e68d-43ce-9fa8-4c93e7115d9e",
   "metadata": {},
   "outputs": [],
   "source": []
  },
  {
   "cell_type": "code",
   "execution_count": null,
   "id": "75ab0836-6c52-481b-8206-683a2e701fce",
   "metadata": {},
   "outputs": [],
   "source": []
  },
  {
   "cell_type": "code",
   "execution_count": null,
   "id": "91fae5e5-211f-414e-aa46-9dabfaaea1c9",
   "metadata": {},
   "outputs": [],
   "source": []
  },
  {
   "cell_type": "code",
   "execution_count": null,
   "id": "2f7d76d5-3562-48f6-8d65-1147358d68dd",
   "metadata": {},
   "outputs": [],
   "source": []
  },
  {
   "cell_type": "code",
   "execution_count": null,
   "id": "bcc3fa10-de6b-432b-9e3f-9df59441af01",
   "metadata": {},
   "outputs": [],
   "source": []
  },
  {
   "cell_type": "code",
   "execution_count": null,
   "id": "383c705a-52f7-4649-bf2d-5416a62781ed",
   "metadata": {},
   "outputs": [],
   "source": []
  },
  {
   "cell_type": "code",
   "execution_count": null,
   "id": "a37bcbda-a2fc-4da9-bc80-9186a160f959",
   "metadata": {},
   "outputs": [],
   "source": []
  },
  {
   "cell_type": "code",
   "execution_count": null,
   "id": "faa2a510-0976-4f0f-b44e-258e80e1ecfc",
   "metadata": {},
   "outputs": [],
   "source": []
  },
  {
   "cell_type": "code",
   "execution_count": null,
   "id": "e555fae4-cb1e-4c11-9197-cc808b5eef7c",
   "metadata": {},
   "outputs": [],
   "source": []
  },
  {
   "cell_type": "code",
   "execution_count": null,
   "id": "b53a6938-5364-4da0-97c5-dcbf07c0530d",
   "metadata": {},
   "outputs": [],
   "source": []
  },
  {
   "cell_type": "code",
   "execution_count": null,
   "id": "7daa3717-27ad-4d5a-a4b4-0cdcaf4b3108",
   "metadata": {},
   "outputs": [],
   "source": []
  },
  {
   "cell_type": "code",
   "execution_count": null,
   "id": "031a43ab-d6ec-4789-b059-62a5b735cdd8",
   "metadata": {},
   "outputs": [],
   "source": []
  },
  {
   "cell_type": "code",
   "execution_count": null,
   "id": "de318243-5f44-4712-a499-34e86ec179be",
   "metadata": {},
   "outputs": [],
   "source": []
  },
  {
   "cell_type": "code",
   "execution_count": null,
   "id": "ea8cf39c-fa65-4413-a427-a61846cff959",
   "metadata": {},
   "outputs": [],
   "source": []
  },
  {
   "cell_type": "code",
   "execution_count": null,
   "id": "c81d13fe-3af1-4a6c-bb64-a9c24324bc6c",
   "metadata": {},
   "outputs": [],
   "source": []
  },
  {
   "cell_type": "code",
   "execution_count": null,
   "id": "9403e800-9abe-4dc3-a6be-013c0dee76c8",
   "metadata": {},
   "outputs": [],
   "source": []
  },
  {
   "cell_type": "code",
   "execution_count": null,
   "id": "a135067d-0018-4f3a-877d-ac54f437e548",
   "metadata": {},
   "outputs": [],
   "source": []
  },
  {
   "cell_type": "code",
   "execution_count": null,
   "id": "b0434d4b-e4e3-42fc-af87-68bfefdeb452",
   "metadata": {},
   "outputs": [],
   "source": []
  }
 ],
 "metadata": {
  "kernelspec": {
   "display_name": "Python 3 (ipykernel)",
   "language": "python",
   "name": "python3"
  },
  "language_info": {
   "codemirror_mode": {
    "name": "ipython",
    "version": 3
   },
   "file_extension": ".py",
   "mimetype": "text/x-python",
   "name": "python",
   "nbconvert_exporter": "python",
   "pygments_lexer": "ipython3",
   "version": "3.11.9"
  },
  "widgets": {
   "application/vnd.jupyter.widget-state+json": {
    "state": {},
    "version_major": 2,
    "version_minor": 0
   }
  }
 },
 "nbformat": 4,
 "nbformat_minor": 5
}
