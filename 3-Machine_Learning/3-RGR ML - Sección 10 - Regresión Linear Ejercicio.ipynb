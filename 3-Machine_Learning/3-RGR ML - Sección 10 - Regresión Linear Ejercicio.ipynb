{
 "cells": [
  {
   "cell_type": "code",
   "execution_count": 26,
   "id": "5fa6f86d-e46b-4162-9caa-13765faab9df",
   "metadata": {},
   "outputs": [],
   "source": [
    "import pandas as pd\n",
    "import numpy as np\n",
    "from sklearn.linear_model import LinearRegression\n",
    "\n",
    "# Función de regresión lineal\n",
    "def regresion_ventas(datos):\n",
    "    X = datos[['TV', 'Radio', 'Periodico']]\n",
    "    Y = datos['Ventas']\n",
    "    \n",
    "    modelo = LinearRegression()\n",
    "    modelo.fit(X, Y)\n",
    "    return modelo\n",
    "\n",
    "\n",
    "\n",
    "    "
   ]
  },
  {
   "cell_type": "code",
   "execution_count": null,
   "id": "51064a31-359f-47c2-bd61-04dfa185e0c2",
   "metadata": {},
   "outputs": [],
   "source": []
  },
  {
   "cell_type": "code",
   "execution_count": 29,
   "id": "8175939f-8a69-46db-bc17-b24e5a607822",
   "metadata": {},
   "outputs": [
    {
     "name": "stdout",
     "output_type": "stream",
     "text": [
      "Estimaciones de Ventas:\n",
      "[21.54261464  8.48121675  4.16961329]\n"
     ]
    }
   ],
   "source": [
    "# Ejemplo de uso con datos reales\n",
    "data = {\n",
    "    'TV': [230.1, 44.5, 17.2, 151.5, 180.8],\n",
    "    'Radio': [37.8, 39.3, 45.9, 41.3, 10.8],\n",
    "    'Periodico': [69.2, 45.1, 69.3, 58.5, 58.4],\n",
    "    'Ventas': [22.1, 10.4, 9.3, 18.5, 12.9]\n",
    "}\n",
    "df = pd.DataFrame(data)\n",
    "modelo_regresion = regresion_ventas(df)\n",
    " \n",
    "# Estimaciones de ventas para nuevos datos de inversión en publicidad\n",
    "nuevos_datos = pd.DataFrame({'TV': [200, 60, 30], 'Radio': [40, 20, 10], 'Periodico': [50, 10, 5]})\n",
    "estimaciones_ventas = modelo_regresion.predict(nuevos_datos)\n",
    " \n",
    "print(\"Estimaciones de Ventas:\")\n",
    "print(estimaciones_ventas)\n"
   ]
  },
  {
   "cell_type": "code",
   "execution_count": null,
   "id": "e772c90b-9d87-4195-95b6-4952553f61cf",
   "metadata": {},
   "outputs": [],
   "source": [
    "df"
   ]
  },
  {
   "cell_type": "code",
   "execution_count": null,
   "id": "599ac47c-fc26-4edb-98e5-abcd22efea1d",
   "metadata": {},
   "outputs": [],
   "source": [
    "df.columns"
   ]
  },
  {
   "cell_type": "code",
   "execution_count": null,
   "id": "7d990e4c-668f-4bb8-a56c-1ccbdec0eda1",
   "metadata": {},
   "outputs": [],
   "source": []
  }
 ],
 "metadata": {
  "kernelspec": {
   "display_name": "Python 3 (ipykernel)",
   "language": "python",
   "name": "python3"
  },
  "language_info": {
   "codemirror_mode": {
    "name": "ipython",
    "version": 3
   },
   "file_extension": ".py",
   "mimetype": "text/x-python",
   "name": "python",
   "nbconvert_exporter": "python",
   "pygments_lexer": "ipython3",
   "version": "3.12.4"
  }
 },
 "nbformat": 4,
 "nbformat_minor": 5
}
