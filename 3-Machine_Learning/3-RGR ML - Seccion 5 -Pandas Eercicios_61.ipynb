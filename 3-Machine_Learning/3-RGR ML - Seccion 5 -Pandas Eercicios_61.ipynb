{
 "cells": [
  {
   "cell_type": "code",
   "execution_count": 10,
   "id": "6b8ef007",
   "metadata": {},
   "outputs": [
    {
     "data": {
      "text/plain": [
       "matematicas    9\n",
       "fisica         9\n",
       "historia       8\n",
       "dtype: int64"
      ]
     },
     "execution_count": 10,
     "metadata": {},
     "output_type": "execute_result"
    }
   ],
   "source": [
    "\n",
    "import pandas as pd\n",
    "\n",
    "asignaturas = ['matematicas', 'fisica', 'historia']\n",
    "notas = [9, 9, 8]\n",
    "serie = pd.Series(data=notas, index=asignaturas)\n",
    "serie\n"
   ]
  },
  {
   "cell_type": "code",
   "execution_count": 9,
   "id": "2715b2cd",
   "metadata": {},
   "outputs": [
    {
     "name": "stdout",
     "output_type": "stream",
     "text": [
      "La nota de física es un  9\n"
     ]
    }
   ],
   "source": [
    "\n",
    "nota_fisica = serie['fisica']\n",
    "print(\"La nota de física es un \", nota_fisica)\n"
   ]
  }
 ],
 "metadata": {
  "kernelspec": {
   "display_name": ".venv (3.13.7)",
   "language": "python",
   "name": "python3"
  },
  "language_info": {
   "codemirror_mode": {
    "name": "ipython",
    "version": 3
   },
   "file_extension": ".py",
   "mimetype": "text/x-python",
   "name": "python",
   "nbconvert_exporter": "python",
   "pygments_lexer": "ipython3",
   "version": "3.13.7"
  }
 },
 "nbformat": 4,
 "nbformat_minor": 5
}
