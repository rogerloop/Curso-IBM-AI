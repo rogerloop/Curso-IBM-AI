{
 "cells": [
  {
   "cell_type": "markdown",
   "id": "b78681f7",
   "metadata": {},
   "source": [
    "Ejercicio 1  - cap. 61"
   ]
  },
  {
   "cell_type": "code",
   "execution_count": null,
   "id": "6b8ef007",
   "metadata": {},
   "outputs": [],
   "source": [
    "\n",
    "import pandas as pd\n",
    "\n",
    "asignaturas = ['matematicas', 'fisica', 'historia']\n",
    "notas = [9, 9, 8]\n",
    "serie = pd.Series(data=notas, index=asignaturas)\n",
    "serie\n"
   ]
  },
  {
   "cell_type": "code",
   "execution_count": null,
   "id": "2715b2cd",
   "metadata": {},
   "outputs": [],
   "source": [
    "\n",
    "nota_fisica = serie['fisica']\n",
    "print(\"La nota de física es un {}\".format(nota_fisica))\n"
   ]
  },
  {
   "cell_type": "markdown",
   "id": "441574a5",
   "metadata": {},
   "source": [
    "Ejercicio 2  - cap. 63\n",
    "\n",
    "Crear un Dataframe a partir de variables"
   ]
  },
  {
   "cell_type": "code",
   "execution_count": null,
   "id": "c6b30dd3",
   "metadata": {},
   "outputs": [],
   "source": [
    "import numpy as np\n",
    "import pandas as pd\n",
    "\n",
    "ventas_enero = np.random.randint(100, 501, 3).tolist()\n",
    "ventas_febrero = np.random.randint(100, 501, 3).tolist()\n",
    "ventas_marzo = np.random.randint(100, 501, 3).tolist()\n",
    "filas = ['ventas_enero', 'ventas_febrero', 'ventas_marzo']\n",
    "columnas = ['oficina_1', 'oficina_2', 'oficina_3']\n",
    "ventas = [ventas_enero, ventas_febrero, ventas_marzo]\n",
    "\n",
    "dataframe = pd.DataFrame(data=ventas, index=filas, columns=columnas)\n",
    "print(dataframe)\n",
    "\n",
    "print('las ventas de enero para la oficina 1 son de {}'.format(dataframe['oficina_1']['ventas_enero']))\n"
   ]
  },
  {
   "cell_type": "markdown",
   "id": "f06d5578",
   "metadata": {},
   "source": [
    "Ejercicio 4\n",
    "\n",
    "Estás trabajando con una tabla de datos numéricos almacenada en un DataFrame de pandas.\n",
    "El objetivo es calcular el promedio de cada columna de manera automatizada, sin usar bucles explícitos.\n",
    "Sigue estos pasos para construir la solución:\n",
    "Crea una función llamada calcular_promedio(dataframe) que reciba un DataFrame como parámetro.\n",
    "Dentro de la función, usa un método de pandas que calcule el promedio de cada columna automáticamente. Evita usar bucles for o while.\n",
    "Retorna los valores promedio como resultado de la función.\n",
    "Prueba tu función con un DataFrame de ejemplo que contenga varias columnas con números enteros.\n",
    "Imprime el resultado y asegúrate de que sea una Serie de pandas con el promedio de cada columna.\n"
   ]
  },
  {
   "cell_type": "code",
   "execution_count": null,
   "id": "8f1a5a43",
   "metadata": {},
   "outputs": [],
   "source": [
    "import numpy as np\n",
    "import pandas as pd\n",
    "\n",
    "ventas_enero = np.random.randint(100, 501, 3).tolist()\n",
    "ventas_febrero = np.random.randint(100, 501, 3).tolist()\n",
    "ventas_marzo = np.random.randint(100, 501, 3).tolist()\n",
    "filas = ['ventas_enero', 'ventas_febrero', 'ventas_marzo']\n",
    "columnas = ['oficina_1', 'oficina_2', 'oficina_3']\n",
    "ventas = [ventas_enero, ventas_febrero, ventas_marzo]\n",
    "\n",
    "dataframe = pd.DataFrame(data=ventas, index=filas, columns=columnas)\n",
    "print(dataframe)\n",
    "\n",
    "def calcular_promedio(dataframe):\n",
    "    return dataframe.mean()\n",
    "\n",
    "print (calcular_promedio(dataframe))\n"
   ]
  },
  {
   "cell_type": "markdown",
   "id": "e98b3716",
   "metadata": {},
   "source": [
    "Ejercicio 5\n",
    "\n",
    "Seleccionar datos\n",
    "Objetivo:\n",
    "El objetivo de este ejercicio es familiarizarte con la manipulación de datos en pandas, utilizando filtros y criterios personalizados para seleccionar subconjuntos de datos en un DataFrame.\n",
    "Contexto:\n",
    "Imagina que estás trabajando con un conjunto de datos de estudiantes, donde cada registro contiene el nombre, la edad y las calificaciones de cada uno.\n",
    "Tienes la tarea de implementar una función que permita seleccionar ciertos registros de acuerdo con un criterio dado (por ejemplo, edad mayor a 18 años).\n",
    "Tarea:\n",
    "Crea una función llamada seleccionar_datos(dataframe, criterio) que tome dos argumentos:\n",
    "dataframe: un DataFrame de pandas que contiene varios registros.\n",
    "criterio: una cadena que representa una expresión de consulta que pandas puede entender (como edad > 18 o calificaciones >= 90).\n",
    "La función debe usar este criterio para filtrar los datos y devolver solo los registros que cumplan con el criterio.\n",
    "Requisitos:\n",
    "Utiliza el método query() de pandas para aplicar el filtro de manera eficiente.\n",
    "Asegúrate de que la función sea flexible y permita cambiar el criterio de selección.\n",
    "   \n",
    "# Ejemplo de uso\n",
    "data = {\n",
    "    'nombre': ['Alice', 'Bob', 'Charlie', 'David'],\n",
    "    'edad': [20, 22, 18, 25],\n",
    "    'calificaciones': [90, 88, 75, 95]\n",
    "}\n",
    " \n",
    "df = pd.DataFrame(data)\n",
    "criterio = 'edad > 18'\n",
    "resultado = seleccionar_datos(df, criterio)\n",
    "print(resultado)\n",
    "\n",
    "  nombre  edad  calificaciones\n",
    "0  Alice    20              90\n",
    "1    Bob    22              88\n",
    "3  David    25              95"
   ]
  },
  {
   "cell_type": "code",
   "execution_count": 1,
   "id": "3416a685",
   "metadata": {},
   "outputs": [
    {
     "name": "stdout",
     "output_type": "stream",
     "text": [
      "    nombre  edad  calificaciones\n",
      "0    Alice    20              90\n",
      "1      Bob    22              88\n",
      "2  Charlie    18              75\n",
      "3    David    25              95\n",
      "  nombre  edad  calificaciones\n",
      "0  Alice    20              90\n",
      "3  David    25              95\n"
     ]
    }
   ],
   "source": [
    "import pandas as pd\n",
    "\n",
    "data = {\n",
    "    'nombre': ['Alice', 'Bob', 'Charlie', 'David'],\n",
    "    'edad': [20, 22, 18, 25],\n",
    "    'calificaciones': [90, 88, 75, 95]\n",
    "}\n",
    "\n",
    "df = pd.DataFrame(data)\n",
    "print(df)\n",
    "\n",
    "def seleccionar_datos(dataframe, criterio):\n",
    "    return dataframe.query(criterio)\n",
    "\n",
    "condicion_edad= '>= 20'\n",
    "condicion_calificaciones = '>= 90'\n",
    "\n",
    "criterio = f\"edad {condicion_edad} & calificaciones {condicion_calificaciones}\"\n",
    "\n",
    "resultado = seleccionar_datos(df, criterio)\n",
    "print (resultado)\n",
    "\n"
   ]
  }
 ],
 "metadata": {
  "kernelspec": {
   "display_name": ".venv (3.13.7)",
   "language": "python",
   "name": "python3"
  },
  "language_info": {
   "codemirror_mode": {
    "name": "ipython",
    "version": 3
   },
   "file_extension": ".py",
   "mimetype": "text/x-python",
   "name": "python",
   "nbconvert_exporter": "python",
   "pygments_lexer": "ipython3",
   "version": "3.13.7"
  }
 },
 "nbformat": 4,
 "nbformat_minor": 5
}
