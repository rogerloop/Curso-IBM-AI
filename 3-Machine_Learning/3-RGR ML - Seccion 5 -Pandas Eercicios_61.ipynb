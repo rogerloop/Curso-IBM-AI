{
 "cells": [
  {
   "cell_type": "markdown",
   "id": "b78681f7",
   "metadata": {},
   "source": [
    "Ejercicio 1  - cap. 61"
   ]
  },
  {
   "cell_type": "code",
   "execution_count": 10,
   "id": "6b8ef007",
   "metadata": {},
   "outputs": [
    {
     "data": {
      "text/plain": [
       "matematicas    9\n",
       "fisica         9\n",
       "historia       8\n",
       "dtype: int64"
      ]
     },
     "execution_count": 10,
     "metadata": {},
     "output_type": "execute_result"
    }
   ],
   "source": [
    "\n",
    "import pandas as pd\n",
    "\n",
    "asignaturas = ['matematicas', 'fisica', 'historia']\n",
    "notas = [9, 9, 8]\n",
    "serie = pd.Series(data=notas, index=asignaturas)\n",
    "serie\n"
   ]
  },
  {
   "cell_type": "code",
   "execution_count": 11,
   "id": "2715b2cd",
   "metadata": {},
   "outputs": [
    {
     "name": "stdout",
     "output_type": "stream",
     "text": [
      "La nota de física es un 9\n"
     ]
    }
   ],
   "source": [
    "\n",
    "nota_fisica = serie['fisica']\n",
    "print(\"La nota de física es un {}\".format(nota_fisica))\n"
   ]
  },
  {
   "cell_type": "markdown",
   "id": "441574a5",
   "metadata": {},
   "source": [
    "Ejercicio 2  - cap. 63\n",
    "\n",
    "Crear un Dataframe a partir de variables"
   ]
  },
  {
   "cell_type": "code",
   "execution_count": 21,
   "id": "c6b30dd3",
   "metadata": {},
   "outputs": [
    {
     "name": "stdout",
     "output_type": "stream",
     "text": [
      "                oficina_1  oficina_2  oficina_3\n",
      "ventas_enero          321        484        478\n",
      "ventas_febrero        355        380        318\n",
      "ventas_marzo          168        337        250\n",
      "las ventas de enero para la oficina 1 son de 321\n"
     ]
    }
   ],
   "source": [
    "import numpy as np\n",
    "import pandas as pd\n",
    "\n",
    "ventas_enero = np.random.randint(100, 501, 3).tolist()\n",
    "ventas_febrero = np.random.randint(100, 501, 3).tolist()\n",
    "ventas_marzo = np.random.randint(100, 501, 3).tolist()\n",
    "filas = ['ventas_enero', 'ventas_febrero', 'ventas_marzo']\n",
    "columnas = ['oficina_1', 'oficina_2', 'oficina_3']\n",
    "ventas = [ventas_enero, ventas_febrero, ventas_marzo]\n",
    "\n",
    "dataframe = pd.DataFrame(data=ventas, index=filas, columns=columnas)\n",
    "print(dataframe)\n",
    "\n",
    "print('las ventas de enero para la oficina 1 son de {}'.format(dataframe['oficina_1']['ventas_enero']))\n"
   ]
  }
 ],
 "metadata": {
  "kernelspec": {
   "display_name": ".venv (3.13.7)",
   "language": "python",
   "name": "python3"
  },
  "language_info": {
   "codemirror_mode": {
    "name": "ipython",
    "version": 3
   },
   "file_extension": ".py",
   "mimetype": "text/x-python",
   "name": "python",
   "nbconvert_exporter": "python",
   "pygments_lexer": "ipython3",
   "version": "3.13.7"
  }
 },
 "nbformat": 4,
 "nbformat_minor": 5
}
