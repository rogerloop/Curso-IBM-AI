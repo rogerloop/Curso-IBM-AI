{
 "cells": [
  {
   "cell_type": "code",
   "execution_count": null,
   "id": "6c952f5c",
   "metadata": {},
   "outputs": [],
   "source": [
    "import numpy as np"
   ]
  },
  {
   "cell_type": "code",
   "execution_count": null,
   "id": "7f6d9174",
   "metadata": {},
   "outputs": [],
   "source": [
    "lista = np.arange(10,40)\n",
    "lista"
   ]
  },
  {
   "cell_type": "code",
   "execution_count": null,
   "id": "36301c66",
   "metadata": {},
   "outputs": [],
   "source": [
    "matriz = lista.reshape(3,10)\n",
    "matriz"
   ]
  },
  {
   "cell_type": "code",
   "execution_count": null,
   "id": "8a3a4640",
   "metadata": {},
   "outputs": [],
   "source": [
    "matriz[0,9]"
   ]
  },
  {
   "cell_type": "code",
   "execution_count": null,
   "id": "b29ed0f7",
   "metadata": {},
   "outputs": [],
   "source": [
    "array = np.random.randint(0,100,9)\n",
    "array"
   ]
  },
  {
   "cell_type": "code",
   "execution_count": null,
   "id": "b7f768d8",
   "metadata": {},
   "outputs": [],
   "source": [
    "array2 = array.reshape(3,3)\n",
    "array2"
   ]
  },
  {
   "cell_type": "code",
   "execution_count": null,
   "id": "f2808e86",
   "metadata": {},
   "outputs": [],
   "source": [
    "array2[2,2]"
   ]
  },
  {
   "cell_type": "markdown",
   "id": "afa150dd",
   "metadata": {},
   "source": [
    "Generar N números aleatorios enteros entre un valor mínimo y máximo\n",
    "🧠 Enunciado\n",
    "Desarrolla una función llamada generar_numeros_enteros_aleatorios que tome como entrada los siguientes tres parámetros:\n",
    "n: un número entero que representa la cantidad de números aleatorios que se deben generar.\n",
    "minimo: el valor mínimo (inclusive) que puede tomar un número aleatorio.\n",
    "maximo: el valor máximo (inclusive) que puede tomar un número aleatorio.\n",
    "La función debe utilizar la biblioteca NumPy para generar una lista de N números enteros aleatorios dentro del rango [minimo, maximo], incluyendo ambos extremos. La función debe devolver esa lista como resultado.\n",
    "\n",
    "def generar_numeros_enteros_aleatorios(n, minimo, maximo):\n",
    "\n",
    "🧪 Ejemplo de uso\n",
    "n = 5\n",
    "minimo = 1\n",
    "maximo = 10\n",
    "resultado = generar_numeros_enteros_aleatorios(n, minimo, maximo)\n",
    "print(resultado)\n",
    "\n",
    "Resultado:\n",
    "[4, 10, 1, 8, 2]\n",
    "\n",
    "✅ Requisitos:\n",
    "Usa numpy.random.randint() correctamente, asegurándote de incluir el límite superior (maximo).\n",
    "Convierte el resultado a una lista con .tolist().\n",
    "La función debe retornar una lista, no un array de NumPy."
   ]
  },
  {
   "cell_type": "code",
   "execution_count": null,
   "id": "2437b3e2",
   "metadata": {},
   "outputs": [],
   "source": [
    "import numpy as np\n",
    "\n",
    "def generar_numeros_enteros_aleatorios (n, minimo, maximo):\n",
    "    return np.random.randint(minimo, (maximo+1), n).tolist()\n",
    "\n",
    "n=5\n",
    "minimo=1\n",
    "maximo=10\n",
    "resultado = generar_numeros_enteros_aleatorios (n, minimo, maximo)\n",
    "print(resultado)\n",
    "\n",
    "    \n"
   ]
  },
  {
   "cell_type": "markdown",
   "id": "4a993966",
   "metadata": {},
   "source": [
    "Generar una Secuencia de Números\n",
    "🎯 Objetivo\n",
    "Crea una función que genere una secuencia de números equidistantes dentro de un rango determinado.\n",
    "Este tipo de secuencia es útil en áreas como análisis de datos, generación de muestras o simulaciones numéricas.\n",
    "\n",
    "📝 Instrucciones\n",
    "Debes implementar una función llamada generar_secuencia_numerica que reciba tres parámetros:\n",
    "def generar_secuencia_numerica(minimo, maximo, paso):\n",
    "\n",
    "📥 Parámetros\n",
    "minimo (int o float): el valor inicial de la secuencia (inclusive).\n",
    "maximo (int o float): el valor límite superior de la secuencia (no incluido).\n",
    "paso (int o float): la diferencia entre cada número consecutivo en la secuencia.\n",
    "\n",
    "📤 Retorno\n",
    "La función debe devolver un array de NumPy que contenga los números generados, comenzando en minimo y aumentando en intervalos de paso, sin incluir el valor maximo.\n",
    "\n",
    "✅ Ejemplo de uso\n",
    "minimo = 0\n",
    "maximo = 10\n",
    "paso = 2\n",
    "resultado = generar_secuencia_numerica(minimo, maximo, paso)\n",
    "print(resultado)\n",
    "Resultado esperado\n",
    "[0 2 4 6 8]"
   ]
  },
  {
   "cell_type": "code",
   "execution_count": null,
   "id": "557264be",
   "metadata": {},
   "outputs": [],
   "source": [
    "import numpy as np\n",
    "\n",
    "def generar_secuencia_numerica(minimo, maximo, paso):\n",
    "    return np.arange(minimo, maximo, paso)\n",
    "\n",
    "minimo = 0\n",
    "maximo = 10\n",
    "paso = 2\n",
    "\n",
    "resultado = generar_secuencia_numerica(minimo, maximo, paso)\n",
    "print (resultado)\n"
   ]
  },
  {
   "cell_type": "markdown",
   "id": "543ea5e3",
   "metadata": {},
   "source": [
    "Finanzas personales\n",
    "Crear una función en Python que realice operaciones con arrays utilizando NumPy para analizar las finanzas personales de un estudiante.\n",
    "La función debe recibir dos arrays: uno con los ingresos mensuales de un estudiante durante un año y otro con sus gastos mensuales.\n",
    "La función debe devolver la suma total de los ingresos, la suma total de los gastos, y el saldo total (ingresos totales - gastos totales) durante todo el año.\n",
    "Instrucciones:\n",
    "Crear la función analizar_finanzas:\n",
    "La función debe recibir dos arrays de 12 elementos: uno con los ingresos mensuales (ingresos) y otro con los gastos mensuales (gastos).\n",
    "La función debe realizar las siguientes operaciones:\n",
    "Total de ingresos: Suma todos los ingresos del año.\n",
    "Total de gastos: Suma todos los gastos del año.\n",
    "Saldo final: Calcula el saldo final del año (total ingresos - total gastos).\n",
    "La salida debe ser un array con estos 3 resultados:\n",
    "resultado = [total_ingresos, total_gastos, saldo_final]\n",
    "Requisitos:\n",
    "Debes usar la librería NumPy para hacer las operaciones de forma eficiente.\n",
    "Los datos de los ingresos y los gastos deben ser positivos (no considerar valores negativos).\n",
    "\n",
    "\n",
    "Ejemplo de uso\n",
    "ingresos = [1500, 1600, 1700, 1650, 1800, 1900, 2000, 2100, 2200, 2300, 2400, 2500]\n",
    "gastos   = [1000, 1100, 1200, 1150, 1300, 1400, 1500, 1600, 1700, 1800, 1900, 2000]\n",
    "resultado = analizar_finanzas(ingresos, gastos)\n",
    "print(resultado)\n",
    "\n",
    "Salida esperada\n",
    "[23650, 17650, 6000]\n"
   ]
  },
  {
   "cell_type": "code",
   "execution_count": 2,
   "id": "b210a8f8",
   "metadata": {},
   "outputs": [
    {
     "name": "stdout",
     "output_type": "stream",
     "text": [
      "[np.int64(23650), np.int64(17650), np.int64(6000)]\n"
     ]
    }
   ],
   "source": [
    "import numpy as np\n",
    "\n",
    "def analizar_finanzas(ingresos, gastos):\n",
    "    total_ingresos = np.sum(ingresos)\n",
    "    total_gastos = np.sum(gastos)\n",
    "    saldo_final = total_ingresos - total_gastos\n",
    "    resultado = [total_ingresos, total_gastos, saldo_final]\n",
    "    return resultado\n",
    "\n",
    "ingresos = [1500, 1600, 1700, 1650, 1800, 1900, 2000, 2100, 2200, 2300, 2400, 2500]\n",
    "gastos   = [1000, 1100, 1200, 1150, 1300, 1400, 1500, 1600, 1700, 1800, 1900, 2000]\n",
    "\n",
    "resultado = analizar_finanzas(ingresos, gastos)\n",
    "print(resultado)"
   ]
  }
 ],
 "metadata": {
  "kernelspec": {
   "display_name": "Python (.venv)",
   "language": "python",
   "name": ".venv"
  },
  "language_info": {
   "codemirror_mode": {
    "name": "ipython",
    "version": 3
   },
   "file_extension": ".py",
   "mimetype": "text/x-python",
   "name": "python",
   "nbconvert_exporter": "python",
   "pygments_lexer": "ipython3",
   "version": "3.12.4"
  }
 },
 "nbformat": 4,
 "nbformat_minor": 5
}
