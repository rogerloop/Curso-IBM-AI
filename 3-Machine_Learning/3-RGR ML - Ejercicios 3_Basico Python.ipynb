{
 "cells": [
  {
   "cell_type": "code",
   "execution_count": 1,
   "id": "12627155-b803-45f9-8708-b6278b0d74b4",
   "metadata": {},
   "outputs": [],
   "source": [
    "# Ejercicio 1 - Ejemplo trabajar con cadenas de texto"
   ]
  },
  {
   "cell_type": "code",
   "execution_count": 2,
   "id": "fc6c16dd-3054-4fc6-ae9a-71055f7af0b2",
   "metadata": {},
   "outputs": [],
   "source": [
    "import numpy as np\n"
   ]
  },
  {
   "cell_type": "code",
   "execution_count": 3,
   "id": "26aefe58-d33e-495f-b144-b38e27057226",
   "metadata": {},
   "outputs": [],
   "source": [
    "frase = \"Hola, este es un curso básico de Python\""
   ]
  },
  {
   "cell_type": "code",
   "execution_count": 4,
   "id": "3e9600bc-7598-4296-bdf6-7286b0d14dcd",
   "metadata": {},
   "outputs": [
    {
     "data": {
      "text/plain": [
       "['Hola,', 'este', 'es', 'un', 'curso', 'básico', 'de', 'Python']"
      ]
     },
     "execution_count": 4,
     "metadata": {},
     "output_type": "execute_result"
    }
   ],
   "source": [
    "palabras = frase.split()\n",
    "palabras"
   ]
  },
  {
   "cell_type": "code",
   "execution_count": 5,
   "id": "03b10646-322f-4ccf-8949-511bed41d8b2",
   "metadata": {},
   "outputs": [],
   "source": [
    "numero = 0\n",
    "for palabra in palabras:\n",
    "    numero = numero + 1"
   ]
  },
  {
   "cell_type": "code",
   "execution_count": 6,
   "id": "ea773139-fcc0-4cd4-96eb-c71681a0d5fa",
   "metadata": {},
   "outputs": [
    {
     "name": "stdout",
     "output_type": "stream",
     "text": [
      "El número de palabras es 8\n"
     ]
    }
   ],
   "source": [
    "print (\"El número de palabras es {}\" .format(numero))"
   ]
  },
  {
   "cell_type": "code",
   "execution_count": null,
   "id": "3cd78efa-d1f8-45fe-a995-b75ae57f1adc",
   "metadata": {},
   "outputs": [],
   "source": []
  },
  {
   "cell_type": "code",
   "execution_count": 7,
   "id": "c3dd6ae0-1f60-4153-ba31-05c67a1c1aa0",
   "metadata": {},
   "outputs": [],
   "source": [
    "# Ejercicio 2 - Ejemplo trabajar con funciones FILTER y IF ELSE"
   ]
  },
  {
   "cell_type": "code",
   "execution_count": 8,
   "id": "96865447-34df-44a1-bcd5-089bca20bd5b",
   "metadata": {},
   "outputs": [],
   "source": [
    "import numpy as np"
   ]
  },
  {
   "cell_type": "code",
   "execution_count": 9,
   "id": "5df2f714-070c-4d12-8a48-32d97658f42d",
   "metadata": {},
   "outputs": [],
   "source": [
    "def positivo(numero):\n",
    "    if (numero >= 0):\n",
    "        return numero"
   ]
  },
  {
   "cell_type": "code",
   "execution_count": 10,
   "id": "f91447f1-54f0-47fb-91eb-1a37ae469dd2",
   "metadata": {},
   "outputs": [],
   "source": [
    "lista = [1,-1,4,-15,9,7,6,-3,2,-20]"
   ]
  },
  {
   "cell_type": "code",
   "execution_count": 11,
   "id": "b7adb4da-4724-4e4b-a9e6-2a5c461b1c5e",
   "metadata": {},
   "outputs": [
    {
     "data": {
      "text/plain": [
       "[1, 4, 9, 7, 6, 2]"
      ]
     },
     "execution_count": 11,
     "metadata": {},
     "output_type": "execute_result"
    }
   ],
   "source": [
    "lista2 = list(filter(positivo,lista))\n",
    "lista2"
   ]
  },
  {
   "cell_type": "code",
   "execution_count": null,
   "id": "f1dafe48-e54c-4319-a096-4f8b2606271d",
   "metadata": {},
   "outputs": [],
   "source": []
  },
  {
   "cell_type": "code",
   "execution_count": 12,
   "id": "422317d6-2005-4d28-a249-5e9718276bc3",
   "metadata": {},
   "outputs": [],
   "source": [
    "# Ejercicio 3 -  Conjuntos {} permite eliminar elementos duplicados"
   ]
  },
  {
   "cell_type": "code",
   "execution_count": 13,
   "id": "17f86c47-6722-4464-a1cd-b44190946077",
   "metadata": {},
   "outputs": [],
   "source": [
    "import numpy as np\n",
    "lista = ['manzana', 'platano', 'melocoton', 'pera', 'manzana', 'limon', 'platano', 'naranja']"
   ]
  },
  {
   "cell_type": "code",
   "execution_count": 14,
   "id": "455486e4-e286-490c-ba9a-54f031caa875",
   "metadata": {},
   "outputs": [
    {
     "data": {
      "text/plain": [
       "{'limon', 'manzana', 'melocoton', 'naranja', 'pera', 'platano'}"
      ]
     },
     "execution_count": 14,
     "metadata": {},
     "output_type": "execute_result"
    }
   ],
   "source": [
    "conjunto = set(lista)\n",
    "conjunto"
   ]
  },
  {
   "cell_type": "code",
   "execution_count": 15,
   "id": "dd7277a3-2fe3-4010-8b38-0b7ca6135184",
   "metadata": {},
   "outputs": [],
   "source": [
    "# Usar Append - Como el ejercicio pide obtener al final una lista haremos un bucle para convertir el conjunto en lista."
   ]
  },
  {
   "cell_type": "code",
   "execution_count": 16,
   "id": "78b040f3-46eb-4a42-822c-d448ec68560c",
   "metadata": {},
   "outputs": [],
   "source": [
    "lista_sin_duplicados =[]\n",
    "for elemento in conjunto:\n",
    "    lista_sin_duplicados.append(elemento)"
   ]
  },
  {
   "cell_type": "code",
   "execution_count": 17,
   "id": "78bdaaae-f792-4f95-bc72-070b82413304",
   "metadata": {},
   "outputs": [
    {
     "data": {
      "text/plain": [
       "['pera', 'melocoton', 'limon', 'naranja', 'manzana', 'platano']"
      ]
     },
     "execution_count": 17,
     "metadata": {},
     "output_type": "execute_result"
    }
   ],
   "source": [
    "lista_sin_duplicados"
   ]
  },
  {
   "cell_type": "code",
   "execution_count": 18,
   "id": "51870f0f-1611-4212-9248-d447c1e6fb69",
   "metadata": {},
   "outputs": [],
   "source": [
    "# Ejercicio 4 - Usar Función MAP para hacer operaciones con listas"
   ]
  },
  {
   "cell_type": "code",
   "execution_count": 19,
   "id": "e29113b2-fc56-4c9a-bb75-270563ab8b19",
   "metadata": {},
   "outputs": [],
   "source": [
    "import numpy as np"
   ]
  },
  {
   "cell_type": "code",
   "execution_count": 20,
   "id": "338470e8-6b99-4d93-aace-f82490d750d0",
   "metadata": {},
   "outputs": [],
   "source": [
    "def dividir_entre_dos(numero):\n",
    "    return numero / 2"
   ]
  },
  {
   "cell_type": "code",
   "execution_count": 21,
   "id": "84b1567b-dce3-40ef-af58-574387862c11",
   "metadata": {},
   "outputs": [
    {
     "data": {
      "text/plain": [
       "5.0"
      ]
     },
     "execution_count": 21,
     "metadata": {},
     "output_type": "execute_result"
    }
   ],
   "source": [
    "dividir_entre_dos(10)"
   ]
  },
  {
   "cell_type": "code",
   "execution_count": 22,
   "id": "e7b4b2ba-c9e5-4cc6-9284-555bcf8ccb8a",
   "metadata": {},
   "outputs": [],
   "source": [
    "lista = [20,18,8,4,10,40,6]"
   ]
  },
  {
   "cell_type": "code",
   "execution_count": 23,
   "id": "53b93156-8b24-497a-b4f1-4054dbcff872",
   "metadata": {},
   "outputs": [
    {
     "data": {
      "text/plain": [
       "[10.0, 9.0, 4.0, 2.0, 5.0, 20.0, 3.0]"
      ]
     },
     "execution_count": 23,
     "metadata": {},
     "output_type": "execute_result"
    }
   ],
   "source": [
    "lista2 = list(map(dividir_entre_dos,lista))\n",
    "lista2"
   ]
  },
  {
   "cell_type": "code",
   "execution_count": 24,
   "id": "172e9647-d625-4d04-9626-fbc95f4e9b50",
   "metadata": {},
   "outputs": [],
   "source": [
    "# Ejercicio 5 - Operaciones aritméticas con Variables"
   ]
  },
  {
   "cell_type": "code",
   "execution_count": 25,
   "id": "fff2fc5e-5051-4a16-846b-2684eb6acee7",
   "metadata": {},
   "outputs": [],
   "source": [
    "import numpy as np\n",
    "\n",
    "# Definimos valor de las variables\n",
    "\n",
    "a = 10\n",
    "b = 3"
   ]
  },
  {
   "cell_type": "code",
   "execution_count": 81,
   "id": "7260c91a-ae3f-4fe8-9b91-37378b4b6e2c",
   "metadata": {},
   "outputs": [],
   "source": [
    "def operaciones_matematicas(a, b):\n",
    "    operacion = [(a+b), (a-b), (a*b), (a/b), (a%b)]\n",
    "    return operacion\n",
    "\n",
    "resultado = operaciones_matematicas(a, b)\n",
    "    "
   ]
  },
  {
   "cell_type": "code",
   "execution_count": 83,
   "id": "ad23649f-f3e4-4001-8362-aa4e7ddb3559",
   "metadata": {},
   "outputs": [
    {
     "data": {
      "text/plain": [
       "[13, 7, 30, 3.3333333333333335, 1]"
      ]
     },
     "execution_count": 83,
     "metadata": {},
     "output_type": "execute_result"
    }
   ],
   "source": [
    "resultado"
   ]
  },
  {
   "cell_type": "code",
   "execution_count": 91,
   "id": "970a55c3-7f32-43c6-a83e-b7d448e7c5d5",
   "metadata": {},
   "outputs": [
    {
     "name": "stdout",
     "output_type": "stream",
     "text": [
      "Suma: 13\n",
      "Resta: 7\n",
      "Multiplicación: 30\n",
      "División: 3.3333333333333335\n",
      "Residuo: 1\n"
     ]
    }
   ],
   "source": [
    "print(\"Suma:\", resultado[0])\n",
    "print(\"Resta:\", resultado[1])\n",
    "print(\"Multiplicación:\", resultado[2])\n",
    "print(\"División:\", resultado[3])\n",
    "print(\"Residuo:\", resultado[4])"
   ]
  },
  {
   "cell_type": "code",
   "execution_count": null,
   "id": "f52fb061-568d-4c86-90e9-2297a09f9712",
   "metadata": {},
   "outputs": [],
   "source": []
  },
  {
   "cell_type": "code",
   "execution_count": 93,
   "id": "9f8a2011-29c2-4718-8c72-63875b235442",
   "metadata": {},
   "outputs": [],
   "source": [
    "# Ejercicio 6 - Listas Diccionarios y Bucles FOR - Calcular Suma y Promedio de una lista de números"
   ]
  },
  {
   "cell_type": "code",
   "execution_count": 150,
   "id": "54ba48d4-cfea-4445-ae3b-28095e43a70d",
   "metadata": {},
   "outputs": [],
   "source": [
    "import numpy as np"
   ]
  },
  {
   "cell_type": "code",
   "execution_count": 185,
   "id": "9a52b0ff-5bed-4999-b27c-51658c2bffa7",
   "metadata": {},
   "outputs": [
    {
     "name": "stdout",
     "output_type": "stream",
     "text": [
      "Suma: 15\n",
      "Promedio: 3.0\n"
     ]
    }
   ],
   "source": [
    "numeros = [1, 2, 3, 4, 5]\n",
    "def calcular_suma_y_promedio(lista_numeros):\n",
    "    suma = sum(lista_numeros)\n",
    "    promedio = suma / len(lista_numeros)\n",
    "    return {\"suma\": suma, \"promedio\" : promedio}\n",
    "    \n",
    "\n",
    "resultado = calcular_suma_y_promedio(numeros)\n",
    "print (\"Suma:\", resultado[\"suma\"])\n",
    "print (\"Promedio:\", resultado[\"promedio\"])  "
   ]
  },
  {
   "cell_type": "code",
   "execution_count": null,
   "id": "a0d1717d-0768-47cc-a820-a2b591596d93",
   "metadata": {},
   "outputs": [],
   "source": []
  },
  {
   "cell_type": "code",
   "execution_count": null,
   "id": "4b13d6c8-caf6-4d8d-b9be-c99ea112c7cf",
   "metadata": {},
   "outputs": [],
   "source": [
    "# Ejercicio 7 - Frecuencia de elementos de una lista - Diccionarios y Bucles While"
   ]
  },
  {
   "cell_type": "code",
   "execution_count": 199,
   "id": "27e5036e-18b1-42ce-a5a6-44b4802f3961",
   "metadata": {},
   "outputs": [
    {
     "name": "stdout",
     "output_type": "stream",
     "text": [
      "{1: 1, 2: 2, 3: 3, 4: 4, 5: 1}\n"
     ]
    }
   ],
   "source": [
    "elementos = [1, 2, 2, 3, 1, 2, 4, 5, 4]\n",
    "\n",
    "import numpy as np\n",
    "\n",
    "def calcular_frecuencia(lista_numeros):\n",
    "    # Convertir la lista a un array de NumPy\n",
    "    array_numeros = np.array(lista_numeros)\n",
    "    \n",
    "    # Usar numpy.unique para encontrar elementos únicos y sus frecuencias\n",
    "    elementos_unicos, frecuencias = np.unique(array_numeros, return_counts=True)\n",
    "    \n",
    "    # Combinar los resultados en un diccionario\n",
    "    frecuencia_dict = dict(zip(elementos_unicos, frecuencias))\n",
    "    \n",
    "    return frecuencia_dict\n",
    "\n",
    "# Pruebas\n",
    "numeros = [1, 2, 2, 3, 3, 3, 4, 4, 4, 4, 5]\n",
    "frecuencia = calcular_frecuencia(numeros)\n",
    "print(frecuencia)"
   ]
  },
  {
   "cell_type": "code",
   "execution_count": 211,
   "id": "3e56eaa8-6418-4bff-802f-0047e17b8365",
   "metadata": {},
   "outputs": [
    {
     "name": "stdout",
     "output_type": "stream",
     "text": [
      "{1: 1, 2: 2, 3: 3, 4: 4, 5: 1}\n"
     ]
    }
   ],
   "source": [
    "def calcular_frecuencia(lista_numeros):\n",
    "    frecuencia_diccionario = {}  \n",
    "    i = 0  \n",
    "\n",
    "    while i < len(lista_numeros):\n",
    "        num = lista_numeros[i]  \n",
    "        if num in frecuencia_diccionario:\n",
    "            frecuencia_diccionario[num] = frecuencia_diccionario[num] + 1  \n",
    "        else:\n",
    "            frecuencia_diccionario[num] = 1\n",
    "        i = i+1  \n",
    "    return frecuencia_diccionario\n",
    "\n",
    "# Pruebas\n",
    "numeros = [1, 2, 2, 3, 3, 3, 4, 4, 4, 4, 5]\n",
    "frecuencia = calcular_frecuencia(numeros)\n",
    "print(frecuencia)"
   ]
  },
  {
   "cell_type": "code",
   "execution_count": null,
   "id": "b6266202-6b0e-4227-b911-37a9028b5344",
   "metadata": {},
   "outputs": [],
   "source": [
    "def contar_frecuencia(lista_numeros):\n",
    "    frecuencia_dict = {}  # Inicializar el diccionario de frecuencias\n",
    "    i = 0  # Inicializar el índice para el bucle while\n",
    "\n",
    "    while i < len(lista_numeros):\n",
    "        num = lista_numeros[i]  # Obtener el elemento actual de la lista\n",
    "        if num in frecuencia_dict:\n",
    "            frecuencia_dict[num] += 1  # Incrementar la frecuencia si el número ya está en el diccionario\n",
    "        else:\n",
    "            frecuencia_dict[num] = 1  # Agregar el número al diccionario con una frecuencia de 1\n",
    "        i += 1  # Incrementar el índice para pasar al siguiente elemento\n",
    "\n",
    "    return frecuencia_dict\n",
    "    \n",
    "numeros = [1, 2, 2, 3, 3, 3, 4, 4, 4, 4, 5]\n",
    "frecuencia = contar_frecuencia(numeros)\n",
    "print(frecuencia)"
   ]
  },
  {
   "cell_type": "code",
   "execution_count": 243,
   "id": "c2721e58-498e-4d48-9f71-bc2281c489de",
   "metadata": {},
   "outputs": [
    {
     "name": "stdout",
     "output_type": "stream",
     "text": [
      "[4, 9, 16, 25]\n"
     ]
    }
   ],
   "source": [
    "def aplicar_funcion_y_filtrar(lista, valor_umbral):\n",
    "    \n",
    "    cuadrados = list(map(lambda x: x ** 2, lista))\n",
    "    resultado = list(filter(lambda x: x > valor_umbral, cuadrados))\n",
    "\n",
    "    return resultado\n",
    "\n",
    "numeros = [1, 2, 3, 4, 5]\n",
    "valor_umbral = 3\n",
    "resultado = aplicar_funcion_y_filtrar(numeros, valor_umbral)\n",
    "print(resultado)"
   ]
  },
  {
   "cell_type": "code",
   "execution_count": 239,
   "id": "d8d1ae8d-9cdd-4c1b-8cdd-e79dbd25f0f3",
   "metadata": {},
   "outputs": [
    {
     "name": "stdout",
     "output_type": "stream",
     "text": [
      "[4, 9, 16, 25]\n"
     ]
    }
   ],
   "source": [
    "def aplicar_funcion_y_filtrar(lista, valor_umbral):\n",
    "    # Usar map para obtener los cuadrados de los números\n",
    "    cuadrados = list(map(lambda x: x ** 2, lista))\n",
    "    \n",
    "    # Usar filter para obtener los números cuyos cuadrados sean mayores que el valor umbral\n",
    "    resultado = list(filter(lambda x: x > valor_umbral, cuadrados))\n",
    "    \n",
    "    return resultado\n",
    "\n",
    "# Pruebas\n",
    "numeros = [1, 2, 3, 4, 5]\n",
    "valor_umbral = 3\n",
    "resultado = aplicar_funcion_y_filtrar(numeros, valor_umbral)\n",
    "print(resultado)"
   ]
  },
  {
   "cell_type": "code",
   "execution_count": null,
   "id": "47b37354-33e1-4ed2-bafb-0b646a7dd139",
   "metadata": {},
   "outputs": [],
   "source": []
  },
  {
   "cell_type": "code",
   "execution_count": null,
   "id": "6f246f6c-6a17-4a3a-8275-ed7c1c91b16d",
   "metadata": {},
   "outputs": [],
   "source": []
  },
  {
   "cell_type": "code",
   "execution_count": null,
   "id": "5fc7ea2a-a2c9-4d49-9552-8dc670be5d14",
   "metadata": {},
   "outputs": [],
   "source": []
  },
  {
   "cell_type": "code",
   "execution_count": null,
   "id": "018c6015-b714-4794-9924-9f6be154854c",
   "metadata": {},
   "outputs": [],
   "source": []
  },
  {
   "cell_type": "code",
   "execution_count": null,
   "id": "92d80b9c-07af-41ce-aca2-db20f84feb06",
   "metadata": {},
   "outputs": [],
   "source": []
  },
  {
   "cell_type": "code",
   "execution_count": null,
   "id": "188b4bb2-877c-4c0c-8041-db9f116b5e68",
   "metadata": {},
   "outputs": [],
   "source": []
  },
  {
   "cell_type": "code",
   "execution_count": null,
   "id": "33cb61f7-b865-4c99-a73a-505ec8384b10",
   "metadata": {},
   "outputs": [],
   "source": []
  },
  {
   "cell_type": "code",
   "execution_count": null,
   "id": "fe0a613d-0b94-4909-94ca-33b1c5562782",
   "metadata": {},
   "outputs": [],
   "source": []
  },
  {
   "cell_type": "code",
   "execution_count": null,
   "id": "834edfc9-9620-4419-95a5-a159e1ce5f56",
   "metadata": {},
   "outputs": [],
   "source": []
  },
  {
   "cell_type": "code",
   "execution_count": null,
   "id": "0fd0b3a1-db18-48b7-af74-105c590bdb36",
   "metadata": {},
   "outputs": [],
   "source": []
  }
 ],
 "metadata": {
  "kernelspec": {
   "display_name": "Python 3 (ipykernel)",
   "language": "python",
   "name": "python3"
  },
  "language_info": {
   "codemirror_mode": {
    "name": "ipython",
    "version": 3
   },
   "file_extension": ".py",
   "mimetype": "text/x-python",
   "name": "python",
   "nbconvert_exporter": "python",
   "pygments_lexer": "ipython3",
   "version": "3.11.9"
  },
  "widgets": {
   "application/vnd.jupyter.widget-state+json": {
    "state": {},
    "version_major": 2,
    "version_minor": 0
   }
  }
 },
 "nbformat": 4,
 "nbformat_minor": 5
}
