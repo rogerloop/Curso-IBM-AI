{
 "cells": [
  {
   "cell_type": "markdown",
   "metadata": {},
   "source": [
    "## Sección 4 Tarea - Rellena los Espacios"
   ]
  },
  {
   "cell_type": "markdown",
   "metadata": {},
   "source": [
    "Importa los paquetes necesarios para realizar este análisis"
   ]
  },
  {
   "cell_type": "code",
   "execution_count": null,
   "metadata": {},
   "outputs": [],
   "source": [
    "import numpy as np\n",
    "import matplotlib.pyplot as plt"
   ]
  },
  {
   "cell_type": "markdown",
   "metadata": {},
   "source": [
    "Carga los datos proveídos para este ejerecicio "
   ]
  },
  {
   "cell_type": "code",
   "execution_count": null,
   "metadata": {},
   "outputs": [],
   "source": [
    "#Temporadas\n",
    "temporadas = [\"2005\",\"2006\",\"2007\",\"2008\",\"2009\",\"2010\",\"2011\",\"2012\",\"2013\",\"2014\"]\n",
    "\n",
    "#Jugadores\n",
    "jugadores = [\"KobeBryant\",\"JoeJohnson\",\"LeBronJames\",\"CarmeloAnthony\",\"DwightHoward\",\"ChrisBosh\",\"ChrisPaul\",\"KevinDurant\",\"DerrickRose\",\"DwayneWade\"]\n",
    "\n",
    "#Tiros Libres\n",
    "KobeBryant_tl = [696,667,623,483,439,483,381,525,18,196]\n",
    "JoeJohnson_tl = [261,235,316,299,220,195,158,132,159,141]\n",
    "LeBronJames_tl = [601,489,549,594,593,503,387,403,439,375]\n",
    "CarmeloAnthony_tl = [573,459,464,371,508,507,295,425,459,189]\n",
    "DwightHoward_tl = [356,390,529,504,483,546,281,355,349,143]\n",
    "ChrisBosh_tl = [474,463,472,504,470,384,229,241,223,179]\n",
    "ChrisPaul_tl = [394,292,332,455,161,337,260,286,295,289]\n",
    "KevinDurant_tl = [209,209,391,452,756,594,431,679,703,146]\n",
    "DerrickRose_tl = [146,146,146,197,259,476,194,0,27,152]\n",
    "DwayneWade_tl = [629,432,354,590,534,494,235,308,189,284]\n",
    "\n",
    "#Tiros Libres Intentados\n",
    "KobeBryant_tli = [819,768,742,564,541,583,451,626,21,241]\n",
    "JoeJohnson_tli = [330,314,379,362,269,243,186,161,195,176]\n",
    "LeBronJames_tli = [814,701,771,762,773,663,502,535,585,528]\n",
    "CarmeloAnthony_tli = [709,568,590,468,612,605,367,512,541,237]\n",
    "DwightHoward_tli = [598,666,897,849,816,916,572,721,638,271]\n",
    "ChrisBosh_tli = [581,590,559,617,590,471,279,302,272,232]\n",
    "ChrisPaul_tli = [465,357,390,524,190,384,302,323,345,321]\n",
    "KevinDurant_tli = [256,256,448,524,840,675,501,750,805,171]\n",
    "DerrickRose_tli = [205,205,205,250,338,555,239,0,32,187]\n",
    "DwayneWade_tli = [803,535,467,771,702,652,297,425,258,370]"
   ]
  },
  {
   "cell_type": "code",
   "execution_count": null,
   "metadata": {},
   "outputs": [],
   "source": [
    "# Crea los diccionarios que representan las Temporadas y los Jugadores\n",
    "# Temporadas\n",
    "dic_temp = {\"2005\":0,\"2006\":1,\"2007\":2,\"2008\":3,\"2009\":4,\"2010\":5,\"2011\":6,\"2012\":7,\"2013\":8,\"2014\":9}\n",
    "\n",
    "# Jugadores\n",
    "dic_jug = {\"KobeBryant\":0,\"JoeJohnson\":1,\"LeBronJames\":2,\"CarmeloAnthony\":3,\"DwightHoward\":4,\"ChrisBosh\":5,\"ChrisPaul\":6,\"KevinDurant\":7,\"DerrickRose\":8,\"DwayneWade\":9}"
   ]
  },
  {
   "cell_type": "code",
   "execution_count": null,
   "metadata": {},
   "outputs": [],
   "source": [
    "# Matriz para los Tiros Libres\n",
    "\n",
    "# Une los vectores proveídos para formar la matriz\n",
    "tiros_libres = np.array([KobeBryant_tl, JoeJohnson_tl, LeBronJames_tl, CarmeloAnthony_tl, DwightHoward_tl, ChrisBosh_tl, ChrisPaul_tl, KevinDurant_tl, DerrickRose_tl, DwayneWade_tl])\n",
    "\n",
    "# Elimina los vectores - ya no los necesitamos\n",
    "del (KobeBryant_tl, JoeJohnson_tl, LeBronJames_tl, CarmeloAnthony_tl, DwightHoward_tl, ChrisBosh_tl, ChrisPaul_tl, KevinDurant_tl, DerrickRose_tl, DwayneWade_tl)\n",
    "\n",
    "# Matriz para los Tiros Libres Intentados\n",
    "tiros_libres_intentados = np.array([KobeBryant_tli, JoeJohnson_tli, LeBronJames_tli, CarmeloAnthony_tli, DwightHoward_tli, ChrisBosh_tli, ChrisPaul_tli, KevinDurant_tli, DerrickRose_tli, DwayneWade_tli])\n",
    "\n",
    "# Elimina los vectores - ya no los necesitamos\n",
    "del (KobeBryant_tli, JoeJohnson_tli, LeBronJames_tli, CarmeloAnthony_tli, DwightHoward_tli, ChrisBosh_tli, ChrisPaul_tli, KevinDurant_tli, DerrickRose_tli, DwayneWade_tli)"
   ]
  },
  {
   "cell_type": "code",
   "execution_count": null,
   "metadata": {},
   "outputs": [],
   "source": [
    "# Revisa las matrices\n",
    "tiros_libres"
   ]
  },
  {
   "cell_type": "code",
   "execution_count": null,
   "metadata": {},
   "outputs": [],
   "source": [
    "# Revisa las matrices\n",
    "tiros_libres_intentados"
   ]
  },
  {
   "cell_type": "code",
   "execution_count": null,
   "metadata": {
    "collapsed": true,
    "jupyter": {
     "outputs_hidden": true
    }
   },
   "outputs": [],
   "source": [
    "# Crea la función para graficar \n",
    "def mi_grafico(matriz, lista_jugadores = jugadores):\n",
    "\n",
    "    col = {\"KobeBryant\":\"Black\",\"JoeJohnson\":\"Red\",\"LeBronJames\":\"Green\",\"CarmeloAnthony\":\"Blue\",\"DwightHoward\":\"Magenta\",\"ChrisBosh\":\"Black\",\"ChrisPaul\":\"Red\",\"KevinDurant\":\"Green\",\"DerrickRose\":\"Blue\",\"DwayneWade\":\"Magenta\"}\n",
    "    mrk = {\"KobeBryant\":\"s\",\"JoeJohnson\":\"o\",\"LeBronJames\":\"^\",\"CarmeloAnthony\":\"D\",\"DwightHoward\":\"s\",\"ChrisBosh\":\"o\",\"ChrisPaul\":\"^\",\"KevinDurant\":\"D\",\"DerrickRose\":\"s\",\"DwayneWade\":\"o\"}\n",
    "\n",
    "    for nombre in lista_jugadores:\n",
    "        plt.plot(matriz[dic_jug[nombre]],c=col[nombre],ls='--',marker=mrk[nombre],ms='7',label=nombre)\n",
    "    plt.legend(loc='upper left',bbox_to_anchor=(1,1))\n",
    "    plt.xticks(list(range(0,10)),Seasons,rotation='vertical')\n",
    "    plt.show()"
   ]
  },
  {
   "cell_type": "code",
   "execution_count": null,
   "metadata": {
    "collapsed": true,
    "jupyter": {
     "outputs_hidden": true
    }
   },
   "outputs": [],
   "source": [
    "#Visualiza las nuevas matrices\n",
    "_(tiros_libres)"
   ]
  },
  {
   "cell_type": "code",
   "execution_count": null,
   "metadata": {
    "collapsed": true,
    "jupyter": {
     "outputs_hidden": true
    }
   },
   "outputs": [],
   "source": [
    "#Visualiza las nuevas matrices\n",
    "_(tiros_libres_intentados)"
   ]
  },
  {
   "cell_type": "markdown",
   "metadata": {},
   "source": [
    "### Parte 1"
   ]
  },
  {
   "cell_type": "code",
   "execution_count": null,
   "metadata": {
    "collapsed": true,
    "jupyter": {
     "outputs_hidden": true
    }
   },
   "outputs": [],
   "source": [
    "#Tiros Libres Intentados por Juego \n",
    "\n",
    "#(Vas a necesitar la matriz de Juegos)\n",
    "#Juegos \n",
    "KobeBryant_j = [80,77,82,82,73,82,58,78,6,35]\n",
    "JoeJohnson_j = [82,57,82,79,76,72,60,72,79,80]\n",
    "LeBronJames_j = [79,78,75,81,76,79,62,76,77,69]\n",
    "CarmeloAnthony_j = [80,65,77,66,69,77,55,67,77,40]\n",
    "DwightHoward_j = [82,82,82,79,82,78,54,76,71,41]\n",
    "ChrisBosh_j = [70,69,67,77,70,77,57,74,79,44]\n",
    "ChrisPaul_j = [78,64,80,78,45,80,60,70,62,82]\n",
    "KevinDurant_j = [35,35,80,74,82,78,66,81,81,27]\n",
    "DerrickRose_j = [40,40,40,81,78,81,39,0,10,51]\n",
    "DwayneWade_j = [75,51,51,79,77,76,49,69,54,62]\n",
    "#Matriz\n",
    "juegos = np.array([KobeBryant_j, JoeJohnson_j, LeBronJames_j, CarmeloAnthony_j, DwightHoward_j, ChrisBosh_j, ChrisPaul_j, KevinDurant_j, DerrickRose_j, DwayneWade_j])"
   ]
  },
  {
   "cell_type": "code",
   "execution_count": null,
   "metadata": {
    "collapsed": true,
    "jupyter": {
     "outputs_hidden": true
    }
   },
   "outputs": [],
   "source": [
    "mi_grafico(_/_)"
   ]
  },
  {
   "cell_type": "markdown",
   "metadata": {},
   "source": [
    "Nota cómo Chris Paul tiene pocos tiros intentados por juego"
   ]
  },
  {
   "cell_type": "markdown",
   "metadata": {},
   "source": [
    "### Parte 2"
   ]
  },
  {
   "cell_type": "code",
   "execution_count": null,
   "metadata": {
    "collapsed": true,
    "jupyter": {
     "outputs_hidden": true
    }
   },
   "outputs": [],
   "source": [
    "# Precisión de Tiros Libres\n",
    "mi_grafico(_/_)"
   ]
  },
  {
   "cell_type": "markdown",
   "metadata": {},
   "source": [
    "Y aún así, la precisión de Chris Paul es una de las más altas. La probabilidad dice que su equipo haría más puntos si tuviera más Tiros Libres Intentados. \n",
    "\n",
    "También identifica que la precisión de Dwight Howard es muy baja comparada contra la de los otros jugadores. Si recuerdas, el Porcentajej de Tiros de Campo de Dwight Howard es muy elevado:"
   ]
  },
  {
   "cell_type": "code",
   "execution_count": null,
   "metadata": {},
   "outputs": [],
   "source": [
    "#Tiros Anotados\n",
    "KobeBryant_ta = [978,813,775,800,716,740,574,738,31,266]\n",
    "JoeJohnson_ta = [632,536,647,620,635,514,423,445,462,446]\n",
    "LeBronJames_ta = [875,772,794,789,768,758,621,765,767,624]\n",
    "CarmeloAnthony_ta = [756,691,728,535,688,684,441,669,743,358]\n",
    "DwightHoward_ta = [468,526,583,560,510,619,416,470,473,251]\n",
    "ChrisBosh_ta = [549,543,507,615,600,524,393,485,492,343]\n",
    "ChrisPaul_ta = [407,381,630,631,314,430,425,412,406,568]\n",
    "KevinDurant_ta = [306,306,587,661,794,711,643,731,849,238]\n",
    "DerrickRose_ta = [208,208,208,574,672,711,302,0,58,338]\n",
    "DwayneWade_ta = [699,472,439,854,719,692,416,569,415,509]\n",
    "\n",
    "#Matriz\n",
    "tiros_anotados  = np.array([KobeBryant_ta, JoeJohnson_ta, LeBronJames_ta, CarmeloAnthony_ta, DwightHoward_ta, ChrisBosh_ta, ChrisPaul_ta, KevinDurant_ta, DerrickRose_ta, DwayneWade_ta])\n",
    "\n",
    "#Tiros Intentados\n",
    "KobeBryant_ti = [2173,1757,1690,1712,1569,1639,1336,1595,73,713]\n",
    "JoeJohnson_ti = [1395,1139,1497,1420,1386,1161,931,1052,1018,1025]\n",
    "LeBronJames_ti = [1823,1621,1642,1613,1528,1485,1169,1354,1353,1279]\n",
    "CarmeloAnthony_ti = [1572,1453,1481,1207,1502,1503,1025,1489,1643,806]\n",
    "DwightHoward_ti = [881,873,974,979,834,1044,726,813,800,423]\n",
    "ChrisBosh_ti = [1087,1094,1027,1263,1158,1056,807,907,953,745]\n",
    "ChrisPaul_ti = [947,871,1291,1255,637,928,890,856,870,1170]\n",
    "KevinDurant_ti = [647,647,1366,1390,1668,1538,1297,1433,1688,467]\n",
    "DerrickRose_ti = [436,436,436,1208,1373,1597,695,0,164,835]\n",
    "DwayneWade_ti = [1413,962,937,1739,1511,1384,837,1093,761,1084]\n",
    "\n",
    "#Matriz\n",
    "tiros_intentados = np.array([KobeBryant_ti, JoeJohnson_ti, LeBronJames_ti, CarmeloAnthony_ti, DwightHoward_ti, ChrisBosh_ti, ChrisPaul_ti, KevinDurant_ti, DerrickRose_ti, DwayneWade_ti])\n",
    "\n",
    "mi_grafico(tiros_anotados/tiros_intentados)"
   ]
  },
  {
   "cell_type": "markdown",
   "metadata": {},
   "source": [
    "¿Cómo puede ser esto? ¿Por qué hay una diferencia tan marcada?\n",
    "\n",
    "Eso lo vamos a ver en unos momentos..."
   ]
  },
  {
   "cell_type": "markdown",
   "metadata": {},
   "source": [
    "### Parte 3"
   ]
  },
  {
   "cell_type": "code",
   "execution_count": null,
   "metadata": {
    "collapsed": true,
    "jupyter": {
     "outputs_hidden": true
    }
   },
   "outputs": [],
   "source": [
    "#Puntos\n",
    "KobeBryant_puntos = [2832,2430,2323,2201,1970,2078,1616,2133,83,782]\n",
    "JoeJohnson_puntos = [1653,1426,1779,1688,1619,1312,1129,1170,1245,1154]\n",
    "LeBronJames_puntos = [2478,2132,2250,2304,2258,2111,1683,2036,2089,1743]\n",
    "CarmeloAnthony_puntos = [2122,1881,1978,1504,1943,1970,1245,1920,2112,966]\n",
    "DwightHoward_puntos = [1292,1443,1695,1624,1503,1784,1113,1296,1297,646]\n",
    "ChrisBosh_puntos = [1572,1561,1496,1746,1678,1438,1025,1232,1281,928]\n",
    "ChrisPaul_puntos = [1258,1104,1684,1781,841,1268,1189,1186,1185,1564]\n",
    "KevinDurant_puntos = [903,903,1624,1871,2472,2161,1850,2280,2593,686]\n",
    "DerrickRose_puntos = [597,597,597,1361,1619,2026,852,0,159,904]\n",
    "DwayneWade_puntos = [2040,1397,1254,2386,2045,1941,1082,1463,1028,1331]\n",
    "\n",
    "#Matriz\n",
    "puntos = np.array([KobeBryant_puntos, JoeJohnson_puntos, LeBronJames_puntos, CarmeloAnthony_puntos, DwightHoward_puntos, ChrisBosh_puntos, ChrisPaul_puntos, KevinDurant_puntos, DerrickRose_puntos, DwayneWade_puntos])             "
   ]
  },
  {
   "cell_type": "code",
   "execution_count": null,
   "metadata": {
    "collapsed": true,
    "jupyter": {
     "outputs_hidden": true
    }
   },
   "outputs": [],
   "source": [
    "# Estilo de Juego del Jugador (excluyendo tiros libres)\n",
    "mi_grafico((_-_)/_)"
   ]
  },
  {
   "cell_type": "markdown",
   "metadata": {},
   "source": [
    "Porque hemos exluído los tiros libres, este gráfico nos muestra\n",
    "la verdadera representación del estilo de juego. Podemos verificar\n",
    "esto porque todas las marcas en este gráfico, sin excepción, están\n",
    "entre 2 y 3. Eso es porque los Tiros de Campo solamente pueden \n",
    "ser de 2 puntos o de 3 puntos. \n",
    "\n",
    "Insights:\n",
    "1. Puedes ver cómo el estilo de juego de casi todos los jugadores \n",
    "   cambia a lo largo de su carrera. Quizás el cambio más drástico \n",
    "   lo tiene Joe Johnson. \n",
    "\n",
    "2. Hay una excepción. Puedes ver que hay un solo jugador que no ha \n",
    "   cambiado su estilo, anotando casi siempre solo tiros de 2 puntos. \n",
    "   ¡Ese jugador es Dwight Howard!\n",
    "   Eso explica mucho. La razón por la cual el porcentaje de tiros\n",
    "   anotados de él es tan elevada es porque anota solamente canastas \n",
    "   de 2 puntos. Lo que significa que tira cerca de la canasta o pegado\n",
    "   a ella. En cambio, los tiros libres requieren que el jugador tire\n",
    "   separado a 4.57 metros del aro. Probablemente esa sea la razón por\n",
    "   la cual el porcentaje de Tiros Libres Anotados de él sean baja. "
   ]
  },
  {
   "cell_type": "code",
   "execution_count": null,
   "metadata": {
    "collapsed": true,
    "jupyter": {
     "outputs_hidden": true
    }
   },
   "outputs": [],
   "source": []
  }
 ],
 "metadata": {
  "kernelspec": {
   "display_name": "Python 3 (ipykernel)",
   "language": "python",
   "name": "python3"
  },
  "language_info": {
   "codemirror_mode": {
    "name": "ipython",
    "version": 3
   },
   "file_extension": ".py",
   "mimetype": "text/x-python",
   "name": "python",
   "nbconvert_exporter": "python",
   "pygments_lexer": "ipython3",
   "version": "3.11.7"
  },
  "widgets": {
   "application/vnd.jupyter.widget-state+json": {
    "state": {},
    "version_major": 2,
    "version_minor": 0
   }
  }
 },
 "nbformat": 4,
 "nbformat_minor": 4
}
