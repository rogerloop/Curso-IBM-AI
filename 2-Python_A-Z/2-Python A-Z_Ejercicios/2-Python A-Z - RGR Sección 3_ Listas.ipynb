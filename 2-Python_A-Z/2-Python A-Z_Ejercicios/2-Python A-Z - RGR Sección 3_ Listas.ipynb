{
 "cells": [
  {
   "cell_type": "code",
   "execution_count": 1,
   "id": "7bcc117c-7658-4fa2-9485-3be0b871c209",
   "metadata": {},
   "outputs": [],
   "source": [
    "letras = ['a','b','c','d','e','f','g','h','i','j']"
   ]
  },
  {
   "cell_type": "code",
   "execution_count": 3,
   "id": "a7f818b4-f0b4-4f37-b0af-e779df2318c9",
   "metadata": {},
   "outputs": [
    {
     "data": {
      "text/plain": [
       "['a', 'b', 'c', 'd', 'e', 'f', 'g', 'h', 'i', 'j']"
      ]
     },
     "execution_count": 3,
     "metadata": {},
     "output_type": "execute_result"
    }
   ],
   "source": [
    "letras"
   ]
  },
  {
   "cell_type": "code",
   "execution_count": 5,
   "id": "267e4e60-8f8c-4394-97e8-7543e9852ba7",
   "metadata": {},
   "outputs": [
    {
     "data": {
      "text/plain": [
       "['c', 'e', 'g', 'i']"
      ]
     },
     "execution_count": 5,
     "metadata": {},
     "output_type": "execute_result"
    }
   ],
   "source": [
    "letras [2:9:2]"
   ]
  },
  {
   "cell_type": "code",
   "execution_count": 7,
   "id": "6b7eed16-91a7-4831-95c8-6db57910d388",
   "metadata": {},
   "outputs": [
    {
     "data": {
      "text/plain": [
       "[]"
      ]
     },
     "execution_count": 7,
     "metadata": {},
     "output_type": "execute_result"
    }
   ],
   "source": [
    "letras [-3:-8]"
   ]
  },
  {
   "cell_type": "code",
   "execution_count": 9,
   "id": "133b0db1-189f-4a37-99da-7b6eb6ab05e1",
   "metadata": {},
   "outputs": [
    {
     "data": {
      "text/plain": [
       "['c', 'd', 'e', 'f', 'g']"
      ]
     },
     "execution_count": 9,
     "metadata": {},
     "output_type": "execute_result"
    }
   ],
   "source": [
    "letras [-8:-3]"
   ]
  },
  {
   "cell_type": "code",
   "execution_count": 11,
   "id": "f6b83877-5f79-4c39-912e-9c2b4f5a2b7a",
   "metadata": {},
   "outputs": [
    {
     "data": {
      "text/plain": [
       "['a', 'e', 'i']"
      ]
     },
     "execution_count": 11,
     "metadata": {},
     "output_type": "execute_result"
    }
   ],
   "source": [
    "letras[::4]"
   ]
  },
  {
   "cell_type": "code",
   "execution_count": 13,
   "id": "ddad6e75-23f5-4ebb-a968-2ac7fa6cf494",
   "metadata": {},
   "outputs": [
    {
     "data": {
      "text/plain": [
       "['j', 'h', 'f', 'd', 'b']"
      ]
     },
     "execution_count": 13,
     "metadata": {},
     "output_type": "execute_result"
    }
   ],
   "source": [
    "letras [::-2]"
   ]
  },
  {
   "cell_type": "code",
   "execution_count": 15,
   "id": "8536f167-1e9a-4b67-bec2-e672f5358ba4",
   "metadata": {},
   "outputs": [
    {
     "data": {
      "text/plain": [
       "[]"
      ]
     },
     "execution_count": 15,
     "metadata": {},
     "output_type": "execute_result"
    }
   ],
   "source": [
    "letras [2:8:-2]"
   ]
  },
  {
   "cell_type": "code",
   "execution_count": 17,
   "id": "111b4782-ceb4-4fee-bf17-665e5afcedf8",
   "metadata": {},
   "outputs": [
    {
     "data": {
      "text/plain": [
       "['c', 'e', 'g']"
      ]
     },
     "execution_count": 17,
     "metadata": {},
     "output_type": "execute_result"
    }
   ],
   "source": [
    "letras [-8:-3:2]"
   ]
  },
  {
   "cell_type": "code",
   "execution_count": 19,
   "id": "32401e2a-a0b8-46ec-a62b-812a39f8207c",
   "metadata": {},
   "outputs": [
    {
     "data": {
      "text/plain": [
       "[]"
      ]
     },
     "execution_count": 19,
     "metadata": {},
     "output_type": "execute_result"
    }
   ],
   "source": [
    "letras [-8:-3:-2]"
   ]
  },
  {
   "cell_type": "code",
   "execution_count": 21,
   "id": "bc0ecd75-fea2-43bc-be0d-0d88cb74311b",
   "metadata": {},
   "outputs": [
    {
     "data": {
      "text/plain": [
       "['i', 'g', 'e']"
      ]
     },
     "execution_count": 21,
     "metadata": {},
     "output_type": "execute_result"
    }
   ],
   "source": [
    "letras [8:2:-2]"
   ]
  },
  {
   "cell_type": "markdown",
   "id": "98a9dc91-b4ac-4384-bfa9-664b4703355c",
   "metadata": {},
   "source": [
    "---"
   ]
  },
  {
   "cell_type": "markdown",
   "id": "a06933f8-7122-44e8-a5ae-c4827e2fa8fc",
   "metadata": {},
   "source": [
    "---\n"
   ]
  },
  {
   "cell_type": "code",
   "execution_count": 30,
   "id": "6b830571-b219-44d8-b99a-a3146b9ef350",
   "metadata": {},
   "outputs": [
    {
     "data": {
      "text/plain": [
       "list"
      ]
     },
     "execution_count": 30,
     "metadata": {},
     "output_type": "execute_result"
    }
   ],
   "source": [
    "type(letras)"
   ]
  },
  {
   "cell_type": "code",
   "execution_count": 32,
   "id": "a017424f-20da-4bae-81a8-18e176cbb17e",
   "metadata": {},
   "outputs": [
    {
     "data": {
      "text/plain": [
       "list"
      ]
     },
     "execution_count": 32,
     "metadata": {},
     "output_type": "execute_result"
    }
   ],
   "source": [
    "type(letras)"
   ]
  },
  {
   "cell_type": "markdown",
   "id": "62c71021-aae0-47bb-bacb-a19a5982fddb",
   "metadata": {},
   "source": [
    "---"
   ]
  },
  {
   "cell_type": "code",
   "execution_count": 35,
   "id": "d560519e-e6e5-4911-a850-94b764533368",
   "metadata": {},
   "outputs": [
    {
     "data": {
      "text/plain": [
       "range(20, 31)"
      ]
     },
     "execution_count": 35,
     "metadata": {},
     "output_type": "execute_result"
    }
   ],
   "source": [
    "range(20,31)"
   ]
  },
  {
   "cell_type": "code",
   "execution_count": 37,
   "id": "cd800abf-f940-4033-bf91-9a1fbd166869",
   "metadata": {},
   "outputs": [
    {
     "data": {
      "text/plain": [
       "[20, 21, 22, 23, 24, 25, 26, 27, 28, 29, 30]"
      ]
     },
     "execution_count": 37,
     "metadata": {},
     "output_type": "execute_result"
    }
   ],
   "source": [
    "list(range(20,31))"
   ]
  },
  {
   "cell_type": "code",
   "execution_count": 39,
   "id": "48e97807-212c-49c0-ad05-820a42baf0c5",
   "metadata": {},
   "outputs": [],
   "source": [
    "MiLista1 = list(range(20,31))"
   ]
  },
  {
   "cell_type": "code",
   "execution_count": 41,
   "id": "44b08e0f-e550-4402-aa97-c9e5249a7f18",
   "metadata": {},
   "outputs": [
    {
     "data": {
      "text/plain": [
       "[20, 21, 22, 23, 24, 25, 26, 27, 28, 29, 30]"
      ]
     },
     "execution_count": 41,
     "metadata": {},
     "output_type": "execute_result"
    }
   ],
   "source": [
    "MiLista1"
   ]
  },
  {
   "cell_type": "code",
   "execution_count": 47,
   "id": "7a1b93eb-188a-4ddc-98c9-af9061dc36e1",
   "metadata": {},
   "outputs": [
    {
     "data": {
      "text/plain": [
       "11"
      ]
     },
     "execution_count": 47,
     "metadata": {},
     "output_type": "execute_result"
    }
   ],
   "source": [
    "len (MiLista1)"
   ]
  },
  {
   "cell_type": "code",
   "execution_count": 49,
   "id": "ea3fe8e4-3084-4be8-ad1a-46627a1b80d7",
   "metadata": {},
   "outputs": [
    {
     "data": {
      "text/plain": [
       "list"
      ]
     },
     "execution_count": 49,
     "metadata": {},
     "output_type": "execute_result"
    }
   ],
   "source": [
    "type(MiLista1)"
   ]
  },
  {
   "cell_type": "code",
   "execution_count": 51,
   "id": "ce60b074-d624-459c-b0b9-62b96249fe6f",
   "metadata": {},
   "outputs": [
    {
     "data": {
      "text/plain": [
       "30"
      ]
     },
     "execution_count": 51,
     "metadata": {},
     "output_type": "execute_result"
    }
   ],
   "source": [
    "max (MiLista1)"
   ]
  },
  {
   "cell_type": "code",
   "execution_count": 53,
   "id": "1c09b7ad-60a8-4757-b46e-5b7537b0b463",
   "metadata": {},
   "outputs": [],
   "source": [
    "import scrapy"
   ]
  },
  {
   "cell_type": "code",
   "execution_count": 55,
   "id": "8d5047df-33b2-4ba9-9275-16516d9499d1",
   "metadata": {},
   "outputs": [],
   "source": [
    "from scrapy.crawler import CrawlerProcess"
   ]
  },
  {
   "cell_type": "code",
   "execution_count": 57,
   "id": "57e2203f-c048-4c61-b2a7-4233c158392f",
   "metadata": {},
   "outputs": [],
   "source": [
    "import numpy as np"
   ]
  },
  {
   "cell_type": "code",
   "execution_count": null,
   "id": "99078edf-813c-4f85-bd47-4383b8dfbf71",
   "metadata": {},
   "outputs": [],
   "source": [
    "np.array(L)"
   ]
  },
  {
   "cell_type": "code",
   "execution_count": 4,
   "id": "c96ab2c8-bb45-4eeb-8f33-1a86d854e273",
   "metadata": {},
   "outputs": [
    {
     "data": {
      "text/plain": [
       "[100,\n",
       " 101,\n",
       " 102,\n",
       " 103,\n",
       " 104,\n",
       " 105,\n",
       " 106,\n",
       " 107,\n",
       " 108,\n",
       " 109,\n",
       " 110,\n",
       " 111,\n",
       " 112,\n",
       " 113,\n",
       " 114,\n",
       " 115,\n",
       " 116,\n",
       " 117,\n",
       " 118,\n",
       " 119,\n",
       " 120]"
      ]
     },
     "execution_count": 4,
     "metadata": {},
     "output_type": "execute_result"
    }
   ],
   "source": [
    "list(range(100,121))"
   ]
  },
  {
   "cell_type": "code",
   "execution_count": 6,
   "id": "3e0ea8eb-dff4-4fbf-ab4a-c2ac5e2b802e",
   "metadata": {},
   "outputs": [],
   "source": [
    "w = list(range(100,121))"
   ]
  },
  {
   "cell_type": "code",
   "execution_count": 8,
   "id": "74b7cd6d-7015-44de-bd2b-e5a6c609b829",
   "metadata": {},
   "outputs": [
    {
     "data": {
      "text/plain": [
       "[100,\n",
       " 101,\n",
       " 102,\n",
       " 103,\n",
       " 104,\n",
       " 105,\n",
       " 106,\n",
       " 107,\n",
       " 108,\n",
       " 109,\n",
       " 110,\n",
       " 111,\n",
       " 112,\n",
       " 113,\n",
       " 114,\n",
       " 115,\n",
       " 116,\n",
       " 117,\n",
       " 118,\n",
       " 119,\n",
       " 120]"
      ]
     },
     "execution_count": 8,
     "metadata": {},
     "output_type": "execute_result"
    }
   ],
   "source": [
    "w"
   ]
  },
  {
   "cell_type": "code",
   "execution_count": 14,
   "id": "f6f34f80-4d7c-474e-99ad-948fff5642ae",
   "metadata": {},
   "outputs": [],
   "source": [
    "w2 = list(range(100,201,10))"
   ]
  },
  {
   "cell_type": "code",
   "execution_count": 16,
   "id": "44c6624c-6658-4cae-9354-93c729f5d570",
   "metadata": {},
   "outputs": [
    {
     "data": {
      "text/plain": [
       "[100, 110, 120, 130, 140, 150, 160, 170, 180, 190, 200]"
      ]
     },
     "execution_count": 16,
     "metadata": {},
     "output_type": "execute_result"
    }
   ],
   "source": [
    "w2"
   ]
  },
  {
   "cell_type": "code",
   "execution_count": null,
   "id": "fdd76ec1-8597-4392-8f82-748f26a608b5",
   "metadata": {},
   "outputs": [],
   "source": []
  },
  {
   "cell_type": "code",
   "execution_count": 12,
   "id": "1bbb2773-9824-4159-b2a5-20c87bdf2c4b",
   "metadata": {},
   "outputs": [
    {
     "data": {
      "text/plain": [
       "[100, 110, 120, 130, 140, 150, 160, 170, 180, 190, 200]"
      ]
     },
     "execution_count": 12,
     "metadata": {},
     "output_type": "execute_result"
    }
   ],
   "source": [
    "w2"
   ]
  },
  {
   "cell_type": "code",
   "execution_count": 20,
   "id": "f33606b1-cf03-450c-b236-e4f606325137",
   "metadata": {},
   "outputs": [
    {
     "ename": "TypeError",
     "evalue": "'str' object cannot be interpreted as an integer",
     "output_type": "error",
     "traceback": [
      "\u001b[0;31m---------------------------------------------------------------------------\u001b[0m",
      "\u001b[0;31mTypeError\u001b[0m                                 Traceback (most recent call last)",
      "Cell \u001b[0;32mIn[20], line 1\u001b[0m\n\u001b[0;32m----> 1\u001b[0m w \u001b[38;5;241m=\u001b[39m \u001b[38;5;28mlist\u001b[39m(\u001b[38;5;28mrange\u001b[39m(\u001b[38;5;124m\"\u001b[39m\u001b[38;5;124ma\u001b[39m\u001b[38;5;124m\"\u001b[39m,\u001b[38;5;124m\"\u001b[39m\u001b[38;5;124mz\u001b[39m\u001b[38;5;124m\"\u001b[39m))\n",
      "\u001b[0;31mTypeError\u001b[0m: 'str' object cannot be interpreted as an integer"
     ]
    }
   ],
   "source": [
    "w = list(range(\"a\",\"z\"))"
   ]
  },
  {
   "cell_type": "code",
   "execution_count": 22,
   "id": "c4c4efc5-cf04-4b3b-89d2-742acb34fc2f",
   "metadata": {},
   "outputs": [
    {
     "ename": "TypeError",
     "evalue": "'str' object cannot be interpreted as an integer",
     "output_type": "error",
     "traceback": [
      "\u001b[0;31m---------------------------------------------------------------------------\u001b[0m",
      "\u001b[0;31mTypeError\u001b[0m                                 Traceback (most recent call last)",
      "Cell \u001b[0;32mIn[22], line 1\u001b[0m\n\u001b[0;32m----> 1\u001b[0m \u001b[38;5;28mrange\u001b[39m(\u001b[38;5;124m\"\u001b[39m\u001b[38;5;124ma\u001b[39m\u001b[38;5;124m\"\u001b[39m,\u001b[38;5;124m\"\u001b[39m\u001b[38;5;124mz\u001b[39m\u001b[38;5;124m\"\u001b[39m)\n",
      "\u001b[0;31mTypeError\u001b[0m: 'str' object cannot be interpreted as an integer"
     ]
    }
   ],
   "source": [
    "range(\"a\",\"z\")"
   ]
  },
  {
   "cell_type": "code",
   "execution_count": 24,
   "id": "189c7c28-2bc0-4cf3-bbc9-4a73247291b6",
   "metadata": {},
   "outputs": [
    {
     "ename": "TypeError",
     "evalue": "'str' object cannot be interpreted as an integer",
     "output_type": "error",
     "traceback": [
      "\u001b[0;31m---------------------------------------------------------------------------\u001b[0m",
      "\u001b[0;31mTypeError\u001b[0m                                 Traceback (most recent call last)",
      "Cell \u001b[0;32mIn[24], line 1\u001b[0m\n\u001b[0;32m----> 1\u001b[0m \u001b[38;5;28mrange\u001b[39m(\u001b[38;5;124m\"\u001b[39m\u001b[38;5;124ma\u001b[39m\u001b[38;5;124m\"\u001b[39m,\u001b[38;5;124m\"\u001b[39m\u001b[38;5;124mz\u001b[39m\u001b[38;5;124m\"\u001b[39m)\n",
      "\u001b[0;31mTypeError\u001b[0m: 'str' object cannot be interpreted as an integer"
     ]
    }
   ],
   "source": [
    "range(\"a\",\"z\")"
   ]
  },
  {
   "cell_type": "code",
   "execution_count": 31,
   "id": "07826e49-73a9-4bcc-bec7-d67a1f7d4c7a",
   "metadata": {},
   "outputs": [
    {
     "data": {
      "text/plain": [
       "[2, 3, 4, 5, 6, 7, 8, 9, 10]"
      ]
     },
     "execution_count": 31,
     "metadata": {},
     "output_type": "execute_result"
    }
   ],
   "source": [
    "list(range(2,11))"
   ]
  },
  {
   "cell_type": "code",
   "execution_count": null,
   "id": "60cea6bb-412c-43d4-b010-85f9d62ea2af",
   "metadata": {},
   "outputs": [],
   "source": []
  },
  {
   "cell_type": "code",
   "execution_count": null,
   "id": "a5b0a188-2c60-40c6-bd04-ad23a7ac4234",
   "metadata": {},
   "outputs": [],
   "source": []
  },
  {
   "cell_type": "code",
   "execution_count": null,
   "id": "552a51b4-3d06-4c59-937d-f1a81cad0a83",
   "metadata": {},
   "outputs": [],
   "source": []
  },
  {
   "cell_type": "code",
   "execution_count": null,
   "id": "8a278f16-fcc6-4ce6-85af-adc9d062ab2d",
   "metadata": {},
   "outputs": [],
   "source": []
  },
  {
   "cell_type": "code",
   "execution_count": null,
   "id": "feb3ef8a-f05a-48bb-a7e6-f597f11b05be",
   "metadata": {},
   "outputs": [],
   "source": []
  }
 ],
 "metadata": {
  "kernelspec": {
   "display_name": "Python 3 (ipykernel)",
   "language": "python",
   "name": "python3"
  },
  "language_info": {
   "codemirror_mode": {
    "name": "ipython",
    "version": 3
   },
   "file_extension": ".py",
   "mimetype": "text/x-python",
   "name": "python",
   "nbconvert_exporter": "python",
   "pygments_lexer": "ipython3",
   "version": "3.11.7"
  },
  "widgets": {
   "application/vnd.jupyter.widget-state+json": {
    "state": {},
    "version_major": 2,
    "version_minor": 0
   }
  }
 },
 "nbformat": 4,
 "nbformat_minor": 5
}
