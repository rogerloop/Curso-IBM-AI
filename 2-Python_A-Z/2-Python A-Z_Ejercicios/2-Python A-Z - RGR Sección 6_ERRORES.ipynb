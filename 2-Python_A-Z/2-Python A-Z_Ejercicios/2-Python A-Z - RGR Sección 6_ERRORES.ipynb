{
 "cells": [
  {
   "cell_type": "code",
   "execution_count": 1,
   "id": "0540c7a4-23a0-4722-95c2-e58ab926e26b",
   "metadata": {},
   "outputs": [],
   "source": [
    "import pandas as pd\n",
    "import os"
   ]
  },
  {
   "cell_type": "code",
   "execution_count": 2,
   "id": "f132027b-a1b5-4770-81fc-9885f9532db5",
   "metadata": {},
   "outputs": [],
   "source": [
    "peliculas = pd.read_csv('RatingsPeliculas.csv')"
   ]
  },
  {
   "cell_type": "code",
   "execution_count": 3,
   "id": "01b6ed2d-064d-4188-9250-86ca8a8bc6dd",
   "metadata": {},
   "outputs": [
    {
     "data": {
      "text/plain": [
       "559"
      ]
     },
     "execution_count": 3,
     "metadata": {},
     "output_type": "execute_result"
    }
   ],
   "source": [
    "len (peliculas)"
   ]
  },
  {
   "cell_type": "code",
   "execution_count": 4,
   "id": "2e0af905-be87-4347-bb6d-f339128827af",
   "metadata": {},
   "outputs": [],
   "source": [
    "peliculas.columns = ['Pelicula', 'Genero', 'RaitingsCriticos', 'RaitingsAudiencia', \\\n",
    "                     'PresupuestoMillones', 'Año']"
   ]
  },
  {
   "cell_type": "code",
   "execution_count": 5,
   "id": "624cb90e-8025-4c77-8472-39e2b599d002",
   "metadata": {},
   "outputs": [
    {
     "data": {
      "text/html": [
       "<div>\n",
       "<style scoped>\n",
       "    .dataframe tbody tr th:only-of-type {\n",
       "        vertical-align: middle;\n",
       "    }\n",
       "\n",
       "    .dataframe tbody tr th {\n",
       "        vertical-align: top;\n",
       "    }\n",
       "\n",
       "    .dataframe thead th {\n",
       "        text-align: right;\n",
       "    }\n",
       "</style>\n",
       "<table border=\"1\" class=\"dataframe\">\n",
       "  <thead>\n",
       "    <tr style=\"text-align: right;\">\n",
       "      <th></th>\n",
       "      <th>Pelicula</th>\n",
       "      <th>Genero</th>\n",
       "      <th>RaitingsCriticos</th>\n",
       "      <th>RaitingsAudiencia</th>\n",
       "      <th>PresupuestoMillones</th>\n",
       "      <th>Año</th>\n",
       "    </tr>\n",
       "  </thead>\n",
       "  <tbody>\n",
       "    <tr>\n",
       "      <th>0</th>\n",
       "      <td>(500) Days of Summer</td>\n",
       "      <td>Comedia</td>\n",
       "      <td>87</td>\n",
       "      <td>81</td>\n",
       "      <td>8</td>\n",
       "      <td>2009</td>\n",
       "    </tr>\n",
       "    <tr>\n",
       "      <th>1</th>\n",
       "      <td>10,000 B.C.</td>\n",
       "      <td>Aventura</td>\n",
       "      <td>9</td>\n",
       "      <td>44</td>\n",
       "      <td>105</td>\n",
       "      <td>2008</td>\n",
       "    </tr>\n",
       "    <tr>\n",
       "      <th>2</th>\n",
       "      <td>12 Rounds</td>\n",
       "      <td>Accion</td>\n",
       "      <td>30</td>\n",
       "      <td>52</td>\n",
       "      <td>20</td>\n",
       "      <td>2009</td>\n",
       "    </tr>\n",
       "    <tr>\n",
       "      <th>3</th>\n",
       "      <td>127 Hours</td>\n",
       "      <td>Aventura</td>\n",
       "      <td>93</td>\n",
       "      <td>84</td>\n",
       "      <td>18</td>\n",
       "      <td>2010</td>\n",
       "    </tr>\n",
       "    <tr>\n",
       "      <th>4</th>\n",
       "      <td>17 Again</td>\n",
       "      <td>Comedia</td>\n",
       "      <td>55</td>\n",
       "      <td>70</td>\n",
       "      <td>20</td>\n",
       "      <td>2009</td>\n",
       "    </tr>\n",
       "  </tbody>\n",
       "</table>\n",
       "</div>"
      ],
      "text/plain": [
       "                Pelicula    Genero  RaitingsCriticos  RaitingsAudiencia  \\\n",
       "0  (500) Days of Summer    Comedia                87                 81   \n",
       "1            10,000 B.C.  Aventura                 9                 44   \n",
       "2             12 Rounds     Accion                30                 52   \n",
       "3              127 Hours  Aventura                93                 84   \n",
       "4              17 Again    Comedia                55                 70   \n",
       "\n",
       "   PresupuestoMillones   Año  \n",
       "0                    8  2009  \n",
       "1                  105  2008  \n",
       "2                   20  2009  \n",
       "3                   18  2010  \n",
       "4                   20  2009  "
      ]
     },
     "execution_count": 5,
     "metadata": {},
     "output_type": "execute_result"
    }
   ],
   "source": [
    "peliculas.head()"
   ]
  },
  {
   "cell_type": "code",
   "execution_count": 6,
   "id": "da67cafd-77cd-440a-a05e-8893df8461dd",
   "metadata": {},
   "outputs": [],
   "source": [
    "peliculas.Pelicula = peliculas.Pelicula.astype('category')"
   ]
  },
  {
   "cell_type": "code",
   "execution_count": 7,
   "id": "fa5900e1-65e1-4937-b100-a7170a5d80ec",
   "metadata": {},
   "outputs": [],
   "source": [
    "peliculas.Pelicula = peliculas.Pelicula.astype('category')\n",
    "peliculas.Genero = peliculas.Genero.astype('category')\n",
    "peliculas.Año = peliculas.Año.astype('category')"
   ]
  },
  {
   "cell_type": "code",
   "execution_count": 8,
   "id": "1742b683-8bce-42aa-b371-6c25a93626ae",
   "metadata": {},
   "outputs": [
    {
     "data": {
      "text/html": [
       "<div>\n",
       "<style scoped>\n",
       "    .dataframe tbody tr th:only-of-type {\n",
       "        vertical-align: middle;\n",
       "    }\n",
       "\n",
       "    .dataframe tbody tr th {\n",
       "        vertical-align: top;\n",
       "    }\n",
       "\n",
       "    .dataframe thead th {\n",
       "        text-align: right;\n",
       "    }\n",
       "</style>\n",
       "<table border=\"1\" class=\"dataframe\">\n",
       "  <thead>\n",
       "    <tr style=\"text-align: right;\">\n",
       "      <th></th>\n",
       "      <th>RaitingsCriticos</th>\n",
       "      <th>RaitingsAudiencia</th>\n",
       "      <th>PresupuestoMillones</th>\n",
       "    </tr>\n",
       "  </thead>\n",
       "  <tbody>\n",
       "    <tr>\n",
       "      <th>count</th>\n",
       "      <td>559.000000</td>\n",
       "      <td>559.000000</td>\n",
       "      <td>559.000000</td>\n",
       "    </tr>\n",
       "    <tr>\n",
       "      <th>mean</th>\n",
       "      <td>47.309481</td>\n",
       "      <td>58.744186</td>\n",
       "      <td>50.236136</td>\n",
       "    </tr>\n",
       "    <tr>\n",
       "      <th>std</th>\n",
       "      <td>26.413091</td>\n",
       "      <td>16.826887</td>\n",
       "      <td>48.731817</td>\n",
       "    </tr>\n",
       "    <tr>\n",
       "      <th>min</th>\n",
       "      <td>0.000000</td>\n",
       "      <td>0.000000</td>\n",
       "      <td>0.000000</td>\n",
       "    </tr>\n",
       "    <tr>\n",
       "      <th>25%</th>\n",
       "      <td>25.000000</td>\n",
       "      <td>47.000000</td>\n",
       "      <td>20.000000</td>\n",
       "    </tr>\n",
       "    <tr>\n",
       "      <th>50%</th>\n",
       "      <td>46.000000</td>\n",
       "      <td>58.000000</td>\n",
       "      <td>35.000000</td>\n",
       "    </tr>\n",
       "    <tr>\n",
       "      <th>75%</th>\n",
       "      <td>70.000000</td>\n",
       "      <td>72.000000</td>\n",
       "      <td>65.000000</td>\n",
       "    </tr>\n",
       "    <tr>\n",
       "      <th>max</th>\n",
       "      <td>97.000000</td>\n",
       "      <td>96.000000</td>\n",
       "      <td>300.000000</td>\n",
       "    </tr>\n",
       "  </tbody>\n",
       "</table>\n",
       "</div>"
      ],
      "text/plain": [
       "       RaitingsCriticos  RaitingsAudiencia  PresupuestoMillones\n",
       "count        559.000000         559.000000           559.000000\n",
       "mean          47.309481          58.744186            50.236136\n",
       "std           26.413091          16.826887            48.731817\n",
       "min            0.000000           0.000000             0.000000\n",
       "25%           25.000000          47.000000            20.000000\n",
       "50%           46.000000          58.000000            35.000000\n",
       "75%           70.000000          72.000000            65.000000\n",
       "max           97.000000          96.000000           300.000000"
      ]
     },
     "execution_count": 8,
     "metadata": {},
     "output_type": "execute_result"
    }
   ],
   "source": [
    "peliculas.describe()"
   ]
  },
  {
   "cell_type": "code",
   "execution_count": 9,
   "id": "974bff8c-5da4-44a6-9424-d2e40e42f495",
   "metadata": {},
   "outputs": [],
   "source": [
    "from matplotlib import pyplot as plt\n",
    "import seaborn as sns\n",
    "%matplotlib inline\n",
    "import warnings\n",
    "warnings.filterwarnings('ignore')"
   ]
  },
  {
   "cell_type": "code",
   "execution_count": 10,
   "id": "f8dd51d7-b0fa-4ed4-9efb-e59003ed8b65",
   "metadata": {},
   "outputs": [
    {
     "ename": "SyntaxError",
     "evalue": "unterminated string literal (detected at line 2) (3120477658.py, line 2)",
     "output_type": "error",
     "traceback": [
      "\u001b[0;36m  Cell \u001b[0;32mIn[10], line 2\u001b[0;36m\u001b[0m\n\u001b[0;31m    k1 = sns.kdeplot(peliculas.PresupuestoMillones, pelicuRaitingsAudiencia')\u001b[0m\n\u001b[0m                                                                           ^\u001b[0m\n\u001b[0;31mSyntaxError\u001b[0m\u001b[0;31m:\u001b[0m unterminated string literal (detected at line 2)\n"
     ]
    }
   ],
   "source": [
    "sns.set_style('dark')\n",
    "k1 = sns.kdeplot(peliculas.PresupuestoMillones, pelicuRaitingsAudiencia')"
   ]
  },
  {
   "cell_type": "code",
   "execution_count": null,
   "id": "a44bc2ce-85fe-4917-82a2-234f3c41f3f1",
   "metadata": {},
   "outputs": [],
   "source": []
  },
  {
   "cell_type": "code",
   "execution_count": null,
   "id": "0d8dbe35-ef2e-4c05-bc85-fb56d49683e1",
   "metadata": {},
   "outputs": [],
   "source": []
  },
  {
   "cell_type": "code",
   "execution_count": null,
   "id": "dece01fa-9f7f-4b00-94f8-f30a202e5833",
   "metadata": {},
   "outputs": [],
   "source": []
  }
 ],
 "metadata": {
  "kernelspec": {
   "display_name": "Python 3 (ipykernel)",
   "language": "python",
   "name": "python3"
  },
  "language_info": {
   "codemirror_mode": {
    "name": "ipython",
    "version": 3
   },
   "file_extension": ".py",
   "mimetype": "text/x-python",
   "name": "python",
   "nbconvert_exporter": "python",
   "pygments_lexer": "ipython3",
   "version": "3.11.7"
  },
  "widgets": {
   "application/vnd.jupyter.widget-state+json": {
    "state": {},
    "version_major": 2,
    "version_minor": 0
   }
  }
 },
 "nbformat": 4,
 "nbformat_minor": 5
}
