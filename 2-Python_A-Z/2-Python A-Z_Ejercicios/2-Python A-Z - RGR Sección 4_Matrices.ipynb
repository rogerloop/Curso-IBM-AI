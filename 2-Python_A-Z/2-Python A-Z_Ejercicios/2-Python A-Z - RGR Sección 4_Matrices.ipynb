{
 "cells": [
  {
   "cell_type": "code",
   "execution_count": 1,
   "id": "b6c24495-e8d6-4b63-9ec3-3895f104325b",
   "metadata": {},
   "outputs": [],
   "source": [
    "import numpy as np\n",
    "mis_datos = np.arange(0,20)"
   ]
  },
  {
   "cell_type": "code",
   "execution_count": 2,
   "id": "29a1bef4-3c3d-4443-9cf6-4d7a35ad3676",
   "metadata": {},
   "outputs": [
    {
     "name": "stdout",
     "output_type": "stream",
     "text": [
      "[ 0  1  2  3  4  5  6  7  8  9 10 11 12 13 14 15 16 17 18 19]\n"
     ]
    }
   ],
   "source": [
    "print (mis_datos)"
   ]
  },
  {
   "cell_type": "code",
   "execution_count": 3,
   "id": "71a6097a-bdce-4bab-bfb3-be736cc33909",
   "metadata": {},
   "outputs": [
    {
     "data": {
      "text/plain": [
       "array([[ 0,  1,  2,  3],\n",
       "       [ 4,  5,  6,  7],\n",
       "       [ 8,  9, 10, 11],\n",
       "       [12, 13, 14, 15],\n",
       "       [16, 17, 18, 19]])"
      ]
     },
     "execution_count": 3,
     "metadata": {},
     "output_type": "execute_result"
    }
   ],
   "source": [
    "np.reshape(mis_datos, (5,4)) #Nota el default es opuesto al lenguaje de programación R"
   ]
  },
  {
   "cell_type": "code",
   "execution_count": 4,
   "id": "e87c1c65-69d9-4e25-90ad-a3bd3689986d",
   "metadata": {},
   "outputs": [
    {
     "data": {
      "text/plain": [
       "array([[ 0,  1,  2,  3],\n",
       "       [ 4,  5,  6,  7],\n",
       "       [ 8,  9, 10, 11],\n",
       "       [12, 13, 14, 15],\n",
       "       [16, 17, 18, 19]])"
      ]
     },
     "execution_count": 4,
     "metadata": {},
     "output_type": "execute_result"
    }
   ],
   "source": [
    "matr1 = np.reshape(mis_datos, (5,4), order=\"C\") \n",
    "matr1"
   ]
  },
  {
   "cell_type": "code",
   "execution_count": 5,
   "id": "c110dd4e-8ac1-47cb-b5be-6733bcb850b2",
   "metadata": {},
   "outputs": [
    {
     "data": {
      "text/plain": [
       "9"
      ]
     },
     "execution_count": 5,
     "metadata": {},
     "output_type": "execute_result"
    }
   ],
   "source": [
    "#Llegar hasta el número 9\n",
    "matr1[2,1]"
   ]
  },
  {
   "cell_type": "code",
   "execution_count": 6,
   "id": "19d90d22-f213-4a15-9c60-340de377cf02",
   "metadata": {},
   "outputs": [
    {
     "data": {
      "text/plain": [
       "numpy.ndarray"
      ]
     },
     "execution_count": 6,
     "metadata": {},
     "output_type": "execute_result"
    }
   ],
   "source": [
    "#Concepto Programación Orientada a Objetos POO\n",
    "#np.reshape(mis_datos, (5,4))\n",
    "type(mis_datos)"
   ]
  },
  {
   "cell_type": "code",
   "execution_count": 22,
   "id": "b83cfbd3-be8e-4d2c-b28d-d1adf1f08838",
   "metadata": {},
   "outputs": [],
   "source": [
    "matr1=np.array(mis_datos.reshape((5,4)))"
   ]
  },
  {
   "cell_type": "code",
   "execution_count": 24,
   "id": "b785d7cc-a1e1-4671-9aa5-7c8b8a09b845",
   "metadata": {},
   "outputs": [
    {
     "data": {
      "text/plain": [
       "array([[ 0,  1,  2,  3],\n",
       "       [ 4,  5,  6,  7],\n",
       "       [ 8,  9, 10, 11],\n",
       "       [12, 13, 14, 15],\n",
       "       [16, 17, 18, 19]])"
      ]
     },
     "execution_count": 24,
     "metadata": {},
     "output_type": "execute_result"
    }
   ],
   "source": [
    "matr1"
   ]
  },
  {
   "cell_type": "code",
   "execution_count": 26,
   "id": "7ce5c091-9354-4161-8ff3-219ac538bffe",
   "metadata": {},
   "outputs": [
    {
     "data": {
      "text/plain": [
       "array([ 8,  9, 10, 11])"
      ]
     },
     "execution_count": 26,
     "metadata": {},
     "output_type": "execute_result"
    }
   ],
   "source": [
    "matr1[2]"
   ]
  },
  {
   "cell_type": "code",
   "execution_count": 28,
   "id": "cca1c136-65d1-42f8-a39f-a9063ba97987",
   "metadata": {},
   "outputs": [
    {
     "data": {
      "text/plain": [
       "array([ 8,  9, 10, 11])"
      ]
     },
     "execution_count": 28,
     "metadata": {},
     "output_type": "execute_result"
    }
   ],
   "source": [
    "matr1[2,:]"
   ]
  },
  {
   "cell_type": "code",
   "execution_count": 30,
   "id": "17e0b8a8-68a1-431c-93a3-8467e303ba88",
   "metadata": {},
   "outputs": [
    {
     "data": {
      "text/plain": [
       "array([ 2,  6, 10, 14, 18])"
      ]
     },
     "execution_count": 30,
     "metadata": {},
     "output_type": "execute_result"
    }
   ],
   "source": [
    "matr1[:,2]"
   ]
  },
  {
   "cell_type": "code",
   "execution_count": null,
   "id": "b7ab4e0d-932d-4725-bba3-7145fce1fad2",
   "metadata": {},
   "outputs": [],
   "source": []
  },
  {
   "cell_type": "code",
   "execution_count": 18,
   "id": "f7ced86d-022e-4252-bf11-571852ea1d18",
   "metadata": {},
   "outputs": [
    {
     "data": {
      "text/plain": [
       "2"
      ]
     },
     "execution_count": 18,
     "metadata": {},
     "output_type": "execute_result"
    }
   ],
   "source": [
    "mis_datos[2]"
   ]
  },
  {
   "cell_type": "code",
   "execution_count": 20,
   "id": "47a54982-635b-43e0-8cdc-0ca9005c57d5",
   "metadata": {},
   "outputs": [
    {
     "data": {
      "text/plain": [
       "array([ 0,  1,  2,  3,  4,  5,  6,  7,  8,  9, 10, 11, 12, 13, 14, 15, 16,\n",
       "       17, 18, 19])"
      ]
     },
     "execution_count": 20,
     "metadata": {},
     "output_type": "execute_result"
    }
   ],
   "source": [
    "mis_datos"
   ]
  },
  {
   "cell_type": "code",
   "execution_count": null,
   "id": "90f8aa0f-9317-4475-a552-4d5b29f89b51",
   "metadata": {},
   "outputs": [],
   "source": []
  },
  {
   "cell_type": "code",
   "execution_count": 8,
   "id": "589ec59f-467a-457f-b2b8-d30646d76872",
   "metadata": {},
   "outputs": [],
   "source": [
    " #Visualizaciones"
   ]
  },
  {
   "cell_type": "code",
   "execution_count": 9,
   "id": "8f7078ff-9fb8-45a3-970b-7aee2bb64187",
   "metadata": {},
   "outputs": [],
   "source": [
    "import numpy as plt"
   ]
  },
  {
   "cell_type": "code",
   "execution_count": 10,
   "id": "186d17bd-3fa6-42fd-894f-aa4e6177f20d",
   "metadata": {},
   "outputs": [],
   "source": [
    "import matplotlib.pyplot as plt\n",
    "%matplotlib inline"
   ]
  },
  {
   "cell_type": "code",
   "execution_count": 11,
   "id": "df9c4f01-8846-4acb-9905-832d45ab1229",
   "metadata": {},
   "outputs": [
    {
     "ename": "NameError",
     "evalue": "name 'sueldo' is not defined",
     "output_type": "error",
     "traceback": [
      "\u001b[0;31m---------------------------------------------------------------------------\u001b[0m",
      "\u001b[0;31mNameError\u001b[0m                                 Traceback (most recent call last)",
      "Cell \u001b[0;32mIn[11], line 1\u001b[0m\n\u001b[0;32m----> 1\u001b[0m plt\u001b[38;5;241m.\u001b[39mplot(sueldo[\u001b[38;5;241m0\u001b[39m], c\u001b[38;5;241m=\u001b[39m\u001b[38;5;124m'\u001b[39m\u001b[38;5;124mBlack\u001b[39m\u001b[38;5;124m'\u001b[39m, ls\u001b[38;5;241m=\u001b[39m\u001b[38;5;124m'\u001b[39m\u001b[38;5;124m--\u001b[39m\u001b[38;5;124m'\u001b[39m,marker\u001b[38;5;241m=\u001b[39m\u001b[38;5;124m'\u001b[39m\u001b[38;5;124ms\u001b[39m\u001b[38;5;124m'\u001b[39m, ms\u001b[38;5;241m=\u001b[39m\u001b[38;5;241m7\u001b[39m)\n",
      "\u001b[0;31mNameError\u001b[0m: name 'sueldo' is not defined"
     ]
    }
   ],
   "source": [
    " plt.plot(sueldo[0], c='Black', ls='--',marker='s', ms=7)"
   ]
  },
  {
   "cell_type": "code",
   "execution_count": null,
   "id": "e0bdcd9b-4a51-47ed-a627-8e5d3f1b4e9f",
   "metadata": {},
   "outputs": [],
   "source": []
  },
  {
   "cell_type": "code",
   "execution_count": 16,
   "id": "ac56885c-360b-4df1-b538-5171cf12d2ca",
   "metadata": {},
   "outputs": [
    {
     "name": "stdout",
     "output_type": "stream",
     "text": [
      "['Hola', 'Python']\n"
     ]
    }
   ],
   "source": [
    "def mi_func(lista1 = [1, 2, 3, 4, 5]):\n",
    "    print(lista1)\n",
    "\n",
    "mi_func([\"Hola\", \"Python\"])"
   ]
  },
  {
   "cell_type": "code",
   "execution_count": null,
   "id": "69b7b2a5-b987-4035-bec3-59e8a4c583e5",
   "metadata": {},
   "outputs": [],
   "source": []
  },
  {
   "cell_type": "code",
   "execution_count": null,
   "id": "362691a1-1e12-4842-92ac-e54dfe0339a1",
   "metadata": {},
   "outputs": [],
   "source": []
  },
  {
   "cell_type": "code",
   "execution_count": null,
   "id": "4dee8a36-3b12-444e-8fcf-14f6e1a55616",
   "metadata": {},
   "outputs": [],
   "source": []
  },
  {
   "cell_type": "code",
   "execution_count": null,
   "id": "ed5eac0a-6b90-426e-8783-63f37e443b09",
   "metadata": {},
   "outputs": [],
   "source": []
  },
  {
   "cell_type": "code",
   "execution_count": null,
   "id": "b170a1f3-880a-42ee-8b53-7da99e923012",
   "metadata": {},
   "outputs": [],
   "source": []
  },
  {
   "cell_type": "code",
   "execution_count": null,
   "id": "ad7ee889-bf45-4e3c-a464-70c7de755d7f",
   "metadata": {},
   "outputs": [],
   "source": []
  },
  {
   "cell_type": "code",
   "execution_count": null,
   "id": "fb18eeb1-17c0-474f-9792-46873cd7183e",
   "metadata": {},
   "outputs": [],
   "source": []
  },
  {
   "cell_type": "code",
   "execution_count": null,
   "id": "82d0ef6a-23d2-41e7-9627-0b9fff945523",
   "metadata": {},
   "outputs": [],
   "source": []
  }
 ],
 "metadata": {
  "kernelspec": {
   "display_name": "Python 3 (ipykernel)",
   "language": "python",
   "name": "python3"
  },
  "language_info": {
   "codemirror_mode": {
    "name": "ipython",
    "version": 3
   },
   "file_extension": ".py",
   "mimetype": "text/x-python",
   "name": "python",
   "nbconvert_exporter": "python",
   "pygments_lexer": "ipython3",
   "version": "3.11.7"
  },
  "widgets": {
   "application/vnd.jupyter.widget-state+json": {
    "state": {},
    "version_major": 2,
    "version_minor": 0
   }
  }
 },
 "nbformat": 4,
 "nbformat_minor": 5
}
