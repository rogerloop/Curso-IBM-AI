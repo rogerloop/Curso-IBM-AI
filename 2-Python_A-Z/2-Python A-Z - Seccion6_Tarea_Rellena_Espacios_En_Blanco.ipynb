{
 "cells": [
  {
   "cell_type": "markdown",
   "metadata": {},
   "source": [
    "### Tarea Sección 6 - Rellena los espacios en blanco"
   ]
  },
  {
   "cell_type": "markdown",
   "metadata": {},
   "source": [
    "Importa los paquetes necesarios para realizar el análisis"
   ]
  },
  {
   "cell_type": "code",
   "execution_count": null,
   "metadata": {
    "collapsed": true,
    "jupyter": {
     "outputs_hidden": true
    }
   },
   "outputs": [],
   "source": [
    "import pandas as pd\n",
    "import matplotlib.pyplot as plt\n",
    "import seaborn as sns\n",
    "import warnings\n",
    "warnings.filterwarnings('ignore')\n",
    "%matplotlib inline"
   ]
  },
  {
   "cell_type": "code",
   "execution_count": null,
   "metadata": {},
   "outputs": [],
   "source": [
    "# Importa los datos\n",
    "peliculas = pd._('Seccion_6_Tarea_Datos.csv', encoding = 'latin1')"
   ]
  },
  {
   "cell_type": "code",
   "execution_count": null,
   "metadata": {},
   "outputs": [],
   "source": [
    "# Explora los datos\n",
    "peliculas._()"
   ]
  },
  {
   "cell_type": "code",
   "execution_count": null,
   "metadata": {},
   "outputs": [],
   "source": [
    "# Revisa el resumen del DataFrame\n",
    "peliculas._()"
   ]
  },
  {
   "cell_type": "code",
   "execution_count": null,
   "metadata": {},
   "outputs": [],
   "source": [
    "# Revisa la estructura del DataFrame\n",
    "peliculas._()"
   ]
  },
  {
   "cell_type": "code",
   "execution_count": null,
   "metadata": {},
   "outputs": [],
   "source": [
    "# Explora la variable categórica Estudio, usada en el reto\n",
    "peliculas.Estudio._()"
   ]
  },
  {
   "cell_type": "code",
   "execution_count": null,
   "metadata": {},
   "outputs": [],
   "source": [
    "# Explora la variable categórica Género, usada en el reto\n",
    "peliculas.Genero._()"
   ]
  },
  {
   "cell_type": "code",
   "execution_count": null,
   "metadata": {},
   "outputs": [],
   "source": [
    "# Filtra el DataFrame por Género\n",
    "peliculas2 = peliculas[(peliculas._ == 'accion') | (peliculas._ == 'aventura') | (peliculas._ == 'animacion') | (peliculas._ == 'comedia') | (peliculas._ == 'drama')]"
   ]
  },
  {
   "cell_type": "code",
   "execution_count": null,
   "metadata": {},
   "outputs": [],
   "source": [
    "# Filtra el DataFrame por Estudio\n",
    "peliculas3 = peliculas2[(peliculas2._ == 'Buena Vista Studios') | (peliculas2._ == 'Fox') | (peliculas2._ == 'Paramount Pictures') | (peliculas2._ == 'Sony') | (peliculas2._ == 'Universal') | (peliculas2._ == 'WB')]"
   ]
  },
  {
   "cell_type": "code",
   "execution_count": null,
   "metadata": {},
   "outputs": [],
   "source": [
    "# Revisa que los filtros se hayan aplicado\n",
    "print (_.Genero.unique())\n",
    "print (_.Estudio.unique())\n",
    "print (len(_))"
   ]
  },
  {
   "cell_type": "code",
   "execution_count": null,
   "metadata": {},
   "outputs": [],
   "source": [
    "# Define el estilo\n",
    "_.set(style=\"darkgrid\", palette=\"muted\", color_codes=True)\n",
    "\n",
    "# Gráfica los boxplots\n",
    "ax = sns._(data=_, x='_', y='_', orient='v', color='lightgray', showfliers=False)\n",
    "plt.setp(ax.artists, alpha=0.5)\n",
    "\n",
    "# Agrega los puntos para mostrar cada observación\n",
    "_.stripplot(x='_', y='_', data=_, jitter=True, size=6, linewidth=0, hue = 'Estudio', alpha=0.7)\n",
    "\n",
    "ax.axes.set_title('_',fontsize=30)\n",
    "ax.set_xlabel('_',fontsize=20)\n",
    "ax.set_ylabel('_',fontsize=20)\n",
    "\n",
    "# Define el lugar de la leyenda\n",
    "ax.legend(bbox_to_anchor=(1.05, 1), loc=2)"
   ]
  }
 ],
 "metadata": {
  "anaconda-cloud": {},
  "kernelspec": {
   "display_name": "Python 3 (ipykernel)",
   "language": "python",
   "name": "python3"
  },
  "language_info": {
   "codemirror_mode": {
    "name": "ipython",
    "version": 3
   },
   "file_extension": ".py",
   "mimetype": "text/x-python",
   "name": "python",
   "nbconvert_exporter": "python",
   "pygments_lexer": "ipython3",
   "version": "3.11.7"
  },
  "widgets": {
   "application/vnd.jupyter.widget-state+json": {
    "state": {},
    "version_major": 2,
    "version_minor": 0
   }
  }
 },
 "nbformat": 4,
 "nbformat_minor": 4
}
